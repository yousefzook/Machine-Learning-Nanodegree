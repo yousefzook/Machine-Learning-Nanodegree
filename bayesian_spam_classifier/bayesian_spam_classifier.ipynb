{
 "cells": [
  {
   "cell_type": "markdown",
   "metadata": {},
   "source": [
    "## Step 1.1: Understanding out dataset"
   ]
  },
  {
   "cell_type": "code",
   "execution_count": 7,
   "metadata": {},
   "outputs": [],
   "source": [
    "import pandas as pd\n",
    "dataset_form = pd.read_table('smsspamcollection/SMSSpamCollection',\n",
    "                            sep='\\t',\n",
    "                            header=None,\n",
    "                            names=['label', 'sms_message'])"
   ]
  },
  {
   "cell_type": "code",
   "execution_count": 8,
   "metadata": {},
   "outputs": [
    {
     "data": {
      "text/html": [
       "<div>\n",
       "<style scoped>\n",
       "    .dataframe tbody tr th:only-of-type {\n",
       "        vertical-align: middle;\n",
       "    }\n",
       "\n",
       "    .dataframe tbody tr th {\n",
       "        vertical-align: top;\n",
       "    }\n",
       "\n",
       "    .dataframe thead th {\n",
       "        text-align: right;\n",
       "    }\n",
       "</style>\n",
       "<table border=\"1\" class=\"dataframe\">\n",
       "  <thead>\n",
       "    <tr style=\"text-align: right;\">\n",
       "      <th></th>\n",
       "      <th>label</th>\n",
       "      <th>sms_message</th>\n",
       "    </tr>\n",
       "  </thead>\n",
       "  <tbody>\n",
       "    <tr>\n",
       "      <th>0</th>\n",
       "      <td>ham</td>\n",
       "      <td>Go until jurong point, crazy.. Available only ...</td>\n",
       "    </tr>\n",
       "    <tr>\n",
       "      <th>1</th>\n",
       "      <td>ham</td>\n",
       "      <td>Ok lar... Joking wif u oni...</td>\n",
       "    </tr>\n",
       "    <tr>\n",
       "      <th>2</th>\n",
       "      <td>spam</td>\n",
       "      <td>Free entry in 2 a wkly comp to win FA Cup fina...</td>\n",
       "    </tr>\n",
       "    <tr>\n",
       "      <th>3</th>\n",
       "      <td>ham</td>\n",
       "      <td>U dun say so early hor... U c already then say...</td>\n",
       "    </tr>\n",
       "    <tr>\n",
       "      <th>4</th>\n",
       "      <td>ham</td>\n",
       "      <td>Nah I don't think he goes to usf, he lives aro...</td>\n",
       "    </tr>\n",
       "  </tbody>\n",
       "</table>\n",
       "</div>"
      ],
      "text/plain": [
       "  label                                        sms_message\n",
       "0   ham  Go until jurong point, crazy.. Available only ...\n",
       "1   ham                      Ok lar... Joking wif u oni...\n",
       "2  spam  Free entry in 2 a wkly comp to win FA Cup fina...\n",
       "3   ham  U dun say so early hor... U c already then say...\n",
       "4   ham  Nah I don't think he goes to usf, he lives aro..."
      ]
     },
     "execution_count": 8,
     "metadata": {},
     "output_type": "execute_result"
    }
   ],
   "source": [
    "dataset_form.head()"
   ]
  },
  {
   "cell_type": "markdown",
   "metadata": {},
   "source": [
    "## Step 1.2: Data Preprocessing"
   ]
  },
  {
   "cell_type": "code",
   "execution_count": 10,
   "metadata": {},
   "outputs": [
    {
     "data": {
      "text/html": [
       "<div>\n",
       "<style scoped>\n",
       "    .dataframe tbody tr th:only-of-type {\n",
       "        vertical-align: middle;\n",
       "    }\n",
       "\n",
       "    .dataframe tbody tr th {\n",
       "        vertical-align: top;\n",
       "    }\n",
       "\n",
       "    .dataframe thead th {\n",
       "        text-align: right;\n",
       "    }\n",
       "</style>\n",
       "<table border=\"1\" class=\"dataframe\">\n",
       "  <thead>\n",
       "    <tr style=\"text-align: right;\">\n",
       "      <th></th>\n",
       "      <th>label</th>\n",
       "      <th>sms_message</th>\n",
       "    </tr>\n",
       "  </thead>\n",
       "  <tbody>\n",
       "    <tr>\n",
       "      <th>0</th>\n",
       "      <td>0</td>\n",
       "      <td>Go until jurong point, crazy.. Available only ...</td>\n",
       "    </tr>\n",
       "    <tr>\n",
       "      <th>1</th>\n",
       "      <td>0</td>\n",
       "      <td>Ok lar... Joking wif u oni...</td>\n",
       "    </tr>\n",
       "    <tr>\n",
       "      <th>2</th>\n",
       "      <td>1</td>\n",
       "      <td>Free entry in 2 a wkly comp to win FA Cup fina...</td>\n",
       "    </tr>\n",
       "    <tr>\n",
       "      <th>3</th>\n",
       "      <td>0</td>\n",
       "      <td>U dun say so early hor... U c already then say...</td>\n",
       "    </tr>\n",
       "    <tr>\n",
       "      <th>4</th>\n",
       "      <td>0</td>\n",
       "      <td>Nah I don't think he goes to usf, he lives aro...</td>\n",
       "    </tr>\n",
       "  </tbody>\n",
       "</table>\n",
       "</div>"
      ],
      "text/plain": [
       "   label                                        sms_message\n",
       "0      0  Go until jurong point, crazy.. Available only ...\n",
       "1      0                      Ok lar... Joking wif u oni...\n",
       "2      1  Free entry in 2 a wkly comp to win FA Cup fina...\n",
       "3      0  U dun say so early hor... U c already then say...\n",
       "4      0  Nah I don't think he goes to usf, he lives aro..."
      ]
     },
     "execution_count": 10,
     "metadata": {},
     "output_type": "execute_result"
    }
   ],
   "source": [
    "dataset_form['label'] = dataset_form.label.map({'ham':0, 'spam':1})\n",
    "dataset_form.head()"
   ]
  },
  {
   "cell_type": "markdown",
   "metadata": {},
   "source": [
    "## Step 2: Bag of Words [BoW]\n",
    "### 2.1: From scratch"
   ]
  },
  {
   "cell_type": "code",
   "execution_count": 11,
   "metadata": {},
   "outputs": [
    {
     "name": "stdout",
     "output_type": "stream",
     "text": [
      "['hello, how are you!', 'win money, win from home.', 'call me now.', 'hello, call hello you tomorrow?']\n"
     ]
    }
   ],
   "source": [
    "documents = ['Hello, how are you!',\n",
    "             'Win money, win from home.',\n",
    "             'Call me now.',\n",
    "             'Hello, Call hello you tomorrow?']\n",
    "\n",
    "lower_case_documents = []\n",
    "for i in documents:\n",
    "    lower_case_documents.append(i.lower())\n",
    "print(lower_case_documents)"
   ]
  },
  {
   "cell_type": "code",
   "execution_count": 36,
   "metadata": {},
   "outputs": [
    {
     "name": "stdout",
     "output_type": "stream",
     "text": [
      "['hello  how are you ', 'win money  win from home ', 'call me now ', 'hello  call hello you tomorrow ']\n"
     ]
    }
   ],
   "source": [
    "import string\n",
    "\n",
    "sans_punctuation_documents = []\n",
    "for i in lower_case_documents:\n",
    "    # str not provide maketrans, so string is used instead with replacing punctuation chars with space chars which will be trimed later\n",
    "    sans_punctuation_documents.append(i.translate(string.maketrans(string.punctuation, '                                ')))\n",
    "print(sans_punctuation_documents)    "
   ]
  },
  {
   "cell_type": "code",
   "execution_count": 39,
   "metadata": {},
   "outputs": [
    {
     "name": "stdout",
     "output_type": "stream",
     "text": [
      "[['hello', '', 'how', 'are', 'you', ''], ['win', 'money', '', 'win', 'from', 'home', ''], ['call', 'me', 'now', ''], ['hello', '', 'call', 'hello', 'you', 'tomorrow', '']]\n"
     ]
    }
   ],
   "source": [
    "preprocessed_documents = []\n",
    "for i in sans_punctuation_documents:\n",
    "    preprocessed_documents.append(i.split(' '))\n",
    "print(preprocessed_documents)"
   ]
  },
  {
   "cell_type": "code",
   "execution_count": 41,
   "metadata": {},
   "outputs": [
    {
     "name": "stdout",
     "output_type": "stream",
     "text": [
      "[Counter({'how': 1, 'you': 1, 'hello': 1, 'are': 1}),\n",
      " Counter({'win': 2, 'home': 1, 'from': 1, 'money': 1}),\n",
      " Counter({'me': 1, 'now': 1, 'call': 1}),\n",
      " Counter({'hello': 2, 'you': 1, 'call': 1, 'tomorrow': 1})]\n"
     ]
    }
   ],
   "source": [
    "frequency_list = []\n",
    "import pprint\n",
    "from collections import Counter\n",
    "\n",
    "for i in preprocessed_documents:\n",
    "    # to remove empty strings in the list\n",
    "    for j in i:              \n",
    "        if j == '':\n",
    "            i.remove(j)\n",
    "    frequency_counts = Counter(i)\n",
    "    frequency_list.append(frequency_counts)\n",
    "    \n",
    "pprint.pprint(frequency_list)"
   ]
  },
  {
   "cell_type": "markdown",
   "metadata": {},
   "source": [
    "### 2.2: With scikit-learn"
   ]
  },
  {
   "cell_type": "code",
   "execution_count": 42,
   "metadata": {},
   "outputs": [],
   "source": [
    "from sklearn.feature_extraction.text import CountVectorizer"
   ]
  },
  {
   "cell_type": "code",
   "execution_count": 44,
   "metadata": {},
   "outputs": [
    {
     "name": "stdout",
     "output_type": "stream",
     "text": [
      "CountVectorizer(analyzer=u'word', binary=False, decode_error=u'strict',\n",
      "        dtype=<type 'numpy.int64'>, encoding=u'utf-8', input=u'content',\n",
      "        lowercase=True, max_df=1.0, max_features=None, min_df=1,\n",
      "        ngram_range=(1, 1), preprocessor=None, stop_words=None,\n",
      "        strip_accents=None, token_pattern=u'(?u)\\\\b\\\\w\\\\w+\\\\b',\n",
      "        tokenizer=None, vocabulary=None)\n"
     ]
    }
   ],
   "source": [
    "count_vector = CountVectorizer()\n",
    "print count_vector"
   ]
  },
  {
   "cell_type": "code",
   "execution_count": 45,
   "metadata": {},
   "outputs": [
    {
     "data": {
      "text/plain": [
       "[u'are',\n",
       " u'call',\n",
       " u'from',\n",
       " u'hello',\n",
       " u'home',\n",
       " u'how',\n",
       " u'me',\n",
       " u'money',\n",
       " u'now',\n",
       " u'tomorrow',\n",
       " u'win',\n",
       " u'you']"
      ]
     },
     "execution_count": 45,
     "metadata": {},
     "output_type": "execute_result"
    }
   ],
   "source": [
    "count_vector.fit(documents)\n",
    "count_vector.get_feature_names()"
   ]
  },
  {
   "cell_type": "code",
   "execution_count": 47,
   "metadata": {},
   "outputs": [
    {
     "data": {
      "text/plain": [
       "array([[1, 0, 0, 1, 0, 1, 0, 0, 0, 0, 0, 1],\n",
       "       [0, 0, 1, 0, 1, 0, 0, 1, 0, 0, 2, 0],\n",
       "       [0, 1, 0, 0, 0, 0, 1, 0, 1, 0, 0, 0],\n",
       "       [0, 1, 0, 2, 0, 0, 0, 0, 0, 1, 0, 1]])"
      ]
     },
     "execution_count": 47,
     "metadata": {},
     "output_type": "execute_result"
    }
   ],
   "source": [
    "# cols are the words , rows are the frequency in each sentence.\n",
    "doc_array = count_vector.transform(documents).toarray()\n",
    "doc_array"
   ]
  },
  {
   "cell_type": "code",
   "execution_count": 48,
   "metadata": {},
   "outputs": [],
   "source": [
    "frequency_matrix = pd.DataFrame(doc_array, columns=count_vector.get_feature_names())"
   ]
  },
  {
   "cell_type": "code",
   "execution_count": 49,
   "metadata": {},
   "outputs": [
    {
     "data": {
      "text/html": [
       "<div>\n",
       "<style scoped>\n",
       "    .dataframe tbody tr th:only-of-type {\n",
       "        vertical-align: middle;\n",
       "    }\n",
       "\n",
       "    .dataframe tbody tr th {\n",
       "        vertical-align: top;\n",
       "    }\n",
       "\n",
       "    .dataframe thead th {\n",
       "        text-align: right;\n",
       "    }\n",
       "</style>\n",
       "<table border=\"1\" class=\"dataframe\">\n",
       "  <thead>\n",
       "    <tr style=\"text-align: right;\">\n",
       "      <th></th>\n",
       "      <th>are</th>\n",
       "      <th>call</th>\n",
       "      <th>from</th>\n",
       "      <th>hello</th>\n",
       "      <th>home</th>\n",
       "      <th>how</th>\n",
       "      <th>me</th>\n",
       "      <th>money</th>\n",
       "      <th>now</th>\n",
       "      <th>tomorrow</th>\n",
       "      <th>win</th>\n",
       "      <th>you</th>\n",
       "    </tr>\n",
       "  </thead>\n",
       "  <tbody>\n",
       "    <tr>\n",
       "      <th>0</th>\n",
       "      <td>1</td>\n",
       "      <td>0</td>\n",
       "      <td>0</td>\n",
       "      <td>1</td>\n",
       "      <td>0</td>\n",
       "      <td>1</td>\n",
       "      <td>0</td>\n",
       "      <td>0</td>\n",
       "      <td>0</td>\n",
       "      <td>0</td>\n",
       "      <td>0</td>\n",
       "      <td>1</td>\n",
       "    </tr>\n",
       "    <tr>\n",
       "      <th>1</th>\n",
       "      <td>0</td>\n",
       "      <td>0</td>\n",
       "      <td>1</td>\n",
       "      <td>0</td>\n",
       "      <td>1</td>\n",
       "      <td>0</td>\n",
       "      <td>0</td>\n",
       "      <td>1</td>\n",
       "      <td>0</td>\n",
       "      <td>0</td>\n",
       "      <td>2</td>\n",
       "      <td>0</td>\n",
       "    </tr>\n",
       "    <tr>\n",
       "      <th>2</th>\n",
       "      <td>0</td>\n",
       "      <td>1</td>\n",
       "      <td>0</td>\n",
       "      <td>0</td>\n",
       "      <td>0</td>\n",
       "      <td>0</td>\n",
       "      <td>1</td>\n",
       "      <td>0</td>\n",
       "      <td>1</td>\n",
       "      <td>0</td>\n",
       "      <td>0</td>\n",
       "      <td>0</td>\n",
       "    </tr>\n",
       "    <tr>\n",
       "      <th>3</th>\n",
       "      <td>0</td>\n",
       "      <td>1</td>\n",
       "      <td>0</td>\n",
       "      <td>2</td>\n",
       "      <td>0</td>\n",
       "      <td>0</td>\n",
       "      <td>0</td>\n",
       "      <td>0</td>\n",
       "      <td>0</td>\n",
       "      <td>1</td>\n",
       "      <td>0</td>\n",
       "      <td>1</td>\n",
       "    </tr>\n",
       "  </tbody>\n",
       "</table>\n",
       "</div>"
      ],
      "text/plain": [
       "   are  call  from  hello  home  how  me  money  now  tomorrow  win  you\n",
       "0    1     0     0      1     0    1   0      0    0         0    0    1\n",
       "1    0     0     1      0     1    0   0      1    0         0    2    0\n",
       "2    0     1     0      0     0    0   1      0    1         0    0    0\n",
       "3    0     1     0      2     0    0   0      0    0         1    0    1"
      ]
     },
     "execution_count": 49,
     "metadata": {},
     "output_type": "execute_result"
    }
   ],
   "source": [
    "frequency_matrix"
   ]
  },
  {
   "cell_type": "markdown",
   "metadata": {},
   "source": [
    "***\n",
    "## Step 3.1: Training and testing data"
   ]
  },
  {
   "cell_type": "code",
   "execution_count": 61,
   "metadata": {},
   "outputs": [
    {
     "name": "stdout",
     "output_type": "stream",
     "text": [
      "Dataset form size = 5572\n",
      "X_train size = 4457 , test size = 1115\n",
      "y_train size = 4457 , test size = 1115\n"
     ]
    }
   ],
   "source": [
    "from sklearn.cross_validation import train_test_split\n",
    "X_train, X_test, y_train, y_test = train_test_split(dataset_form['sms_message'], dataset_form['label'], random_state=1, test_size=0.2)\n",
    "\n",
    "print('Dataset form size = {}'.format(dataset_form.shape[0]))\n",
    "print('X_train size = {} , test size = {}'.format(X_train.shape[0], X_test.shape[0]))\n",
    "print('y_train size = {} , test size = {}'.format(y_train.shape[0], y_test.shape[0]))"
   ]
  },
  {
   "cell_type": "markdown",
   "metadata": {},
   "source": [
    "## Step 3.2: Applying Bag of Words processing to our dataset"
   ]
  },
  {
   "cell_type": "code",
   "execution_count": 64,
   "metadata": {},
   "outputs": [
    {
     "name": "stdout",
     "output_type": "stream",
     "text": [
      "[u'00', u'000', u'008704050406', u'0121', u'01223585236', u'01223585334', u'0125698789', u'02', u'0207', u'02072069400', u'02073162414', u'02085076972', u'021', u'03', u'04', u'0430', u'05', u'050703', u'0578', u'06', u'07', u'07008009200', u'07090201529', u'07090298926', u'07123456789', u'07732584351', u'07734396839', u'07742676969', u'07753741225', u'0776xxxxxxx', u'07781482378', u'07786200117', u'078', u'07801543489', u'07808', u'07808247860', u'07808726822', u'07815296484', u'07821230901', u'07880867867', u'0789xxxxxxx', u'07946746291', u'0796xxxxxx', u'07973788240', u'07xxxxxxxxx', u'08', u'0800', u'08000407165', u'08000776320', u'08000839402', u'08000930705', u'08000938767', u'08001950382', u'08002888812', u'08002986030', u'08002986906', u'08002988890', u'08006344447', u'0808', u'08081263000', u'08081560665', u'0825', u'083', u'0844', u'08448350055', u'08448714184', u'0845', u'08450542832', u'08452810071', u'08452810073', u'08452810075over18', u'0870', u'08700435505150p', u'08700469649', u'08700621170150p', u'08701213186', u'08701417012', u'08701417012150p', u'0870141701216', u'087016248', u'08701752560', u'087018728737', u'0870241182716', u'08702840625', u'08704050406', u'08704439680', u'08706091795', u'0870737910216yrs', u'08707509020', u'08707808226', u'08708034412', u'08708800282', u'08709222922', u'08709501522', u'0871', u'087104711148', u'08712101358', u'08712103738', u'0871212025016', u'08712300220', u'087123002209am', u'08712317606', u'08712400602450p', u'08712400603', u'08712402050', u'08712402578', u'08712402779', u'08712402902', u'08712402972', u'08712404000', u'08712405020', u'08712405022', u'08712460324', u'0871277810710p', u'0871277810810', u'0871277810910p', u'08714342399', u'08714712379', u'08714712388', u'08714712394', u'08714712412', u'08715203028', u'08715203649', u'08715203652', u'08715203677', u'08715203685', u'08715203694', u'08715500022', u'08715705022', u'08717168528', u'08717205546', u'0871750', u'08717898035', u'08718711108', u'08718720201', u'08718723815', u'08718725756', u'08718726270', u'087187262701', u'08718726970', u'08718726971', u'08718726978', u'08718727868', u'08718727870', u'08718727870150ppm', u'08718730555', u'08718730666', u'08718738001', u'08718738002', u'08719180248', u'08719181503', u'08719181513', u'08719899217', u'08719899229', u'08719899230', u'09', u'09050000301', u'09050000332', u'09050000460', u'09050000555', u'09050000878', u'09050000928', u'09050001295', u'09050001808', u'09050002311', u'09050003091', u'09050090044', u'09050280520', u'09053750005', u'09056242159', u'09057039994', u'09058091854', u'09058091870', u'09058094454', u'09058094455', u'09058094507', u'09058094565', u'09058094583', u'09058094594', u'09058094597', u'09058094599', u'09058098002', u'09058099801', u'09061104276', u'09061104283', u'09061209465', u'09061213237', u'09061221061', u'09061221066', u'09061701444', u'09061701461', u'09061701939', u'09061702893', u'09061743386', u'09061743806', u'09061743810', u'09061743811', u'09061744553', u'09061749602', u'09061790121', u'09061790125', u'09061790126', u'09063440451', u'09063458130', u'0906346330', u'09064011000', u'09064012103', u'09064012160', u'09064015307', u'09064017295', u'09064018838', u'09064019014', u'09064019788', u'09065069120', u'09065069154', u'09065171142', u'09065174042', u'09065394514', u'09065394973', u'09065989180', u'09065989182', u'09066350750', u'09066358152', u'09066358361', u'09066361921', u'09066362231', u'09066364311', u'09066364349', u'09066364589', u'09066368470', u'09066380611', u'09066382422', u'09066612661', u'09066649731from', u'09066660100', u'09071512433', u'09077818151', u'09090204448', u'09094100151', u'09094646631', u'09094646899', u'09095350301', u'09096102316', u'09099725823', u'09099726395', u'09099726429', u'09099726481', u'09099726553', u'09111032124', u'09701213186', u'0a', u'10', u'100', u'1000', u'1000s', u'100p', u'100percent', u'100txt', u'1013', u'1030', u'10am', u'10k', u'10p', u'10ppm', u'10th', u'11', u'1120', u'113', u'1131', u'114', u'116', u'118p', u'11mths', u'11pm', u'12', u'1205', u'120p', u'121', u'1225', u'123', u'125', u'1250', u'125gift', u'128', u'12hrs', u'12mths', u'13', u'130', u'1327', u'139', u'14', u'140', u'1405', u'140ppm', u'145', u'1450', u'146tf150p', u'14thmarch', u'15', u'150', u'1500', u'150p', u'150p16', u'150pm', u'150ppermesssubscription', u'150ppm', u'150pw', u'151', u'153', u'15pm', u'16', u'165', u'1680', u'169', u'177', u'18', u'180', u'1843', u'18p', u'18yrs', u'195', u'1956669', u'1apple', u'1b6a5ecef91ff9', u'1cup', u'1er', u'1hr', u'1im', u'1lemon', u'1mega', u'1million', u'1pm', u'1st', u'1st4terms', u'1stchoice', u'1stone', u'1thing', u'1tulsi', u'1win150ppmx3', u'1winaweek', u'1winawk', u'1x150p', u'1yf', u'20', u'200', u'2000', u'2003', u'2004', u'2005', u'2006', u'2007', u'2025050', u'20m12aq', u'20p', u'21', u'21870000', u'21st', u'22', u'220', u'220cm2', u'2309', u'23f', u'23g', u'24', u'24hrs', u'24m', u'24th', u'25', u'250', u'250k', u'255', u'25p', u'26', u'2667', u'26th', u'27', u'28', u'2814032', u'28days', u'28th', u'28thfeb', u'29', u'2b', u'2bold', u'2c', u'2channel', u'2day', u'2docd', u'2end', u'2ez', u'2find', u'2getha', u'2geva', u'2go', u'2gthr', u'2hrs', u'2kbsubject', u'2lands', u'2marrow', u'2moro', u'2morow', u'2morro', u'2morrow', u'2morrowxxxx', u'2mro', u'2mrw', u'2mwen', u'2nd', u'2nite', u'2optout', u'2p', u'2price', u'2px', u'2rcv', u'2stop', u'2stoptxt', u'2u', u'2watershd', u'2waxsto', u'2wks', u'2wt', u'2wu', u'2years', u'2yr', u'2yrs', u'30', u'300', u'3000', u'300603', u'300p', u'3030', u'30apr', u'30ish', u'30pm', u'30pp', u'30s', u'30th', u'31', u'3100', u'310303', u'31p', u'32', u'32000', u'326', u'33', u'330', u'350', u'3510i', u'3650', u'36504', u'3680', u'373', u'3750', u'37819', u'38', u'382', u'391784', u'3aj', u'3d', u'3days', u'3g', u'3gbp', u'3hrs', u'3lions', u'3lp', u'3miles', u'3mins', u'3mobile', u'3optical', u'3pound', u'3qxj9', u'3rd', u'3ss', u'3uz', u'3wks', u'3x', u'3xx', u'40', u'400', u'400mins', u'400thousad', u'402', u'40411', u'40533', u'40gb', u'40mph', u'41685', u'41782', u'420', u'4217', u'42478', u'42810', u'430', u'434', u'44', u'440', u'4403ldnw1a7rw18', u'44345', u'447797706009', u'447801259231', u'448712404000', u'449050000301', u'45', u'450p', u'450ppw', u'45239', u'45pm', u'47', u'4719', u'4742', u'47per', u'48', u'4882', u'48922', u'49', u'49557', u'4a', u'4d', u'4eva', u'4few', u'4fil', u'4get', u'4got', u'4goten', u'4info', u'4jx', u'4msgs', u'4mths', u'4qf2', u'4t', u'4th', u'4txt', u'4u', u'4utxt', u'4w', u'4wrd', u'4xx26', u'4years', u'50', u'500', u'5000', u'505060', u'50award', u'50ea', u'50gbp', u'50p', u'50perweeksub', u'50perwksub', u'50pm', u'50ppm', u'50rcvd', u'50s', u'515', u'5226', u'523', u'5249', u'526', u'528', u'530', u'54', u'542', u'5digital', u'5free', u'5ish', u'5k', u'5min', u'5mls', u'5p', u'5pm', u'5th', u'5wb', u'5we', u'5wkg', u'5wq', u'5years', u'60', u'600', u'6031', u'6089', u'60p', u'61', u'61200', u'61610', u'62468', u'630', u'63miles', u'645', u'65', u'66', u'6669', u'674', u'67441233', u'68866', u'69101', u'69669', u'69696', u'69698', u'69855', u'69866', u'69888', u'69888nyt', u'69911', u'69969', u'69988', u'6hl', u'6hrs', u'6ish', u'6missed', u'6months', u'6ph', u'6pm', u'6th', u'6wu', u'6zf', u'700', u'71', u'7250', u'7250i', u'730', u'731', u'75', u'750', u'75max', u'762', u'7634', u'7684', u'77', u'7732584351', u'78', u'786', u'7876150ppm', u'7am', u'7cfca1a', u'7ish', u'7oz', u'7pm', u'7th', u'7ws', u'800', u'8000930705', u'80062', u'8007', u'80082', u'80086', u'80122300p', u'80155', u'80160', u'80182', u'8027', u'80488', u'80608', u'8077', u'80878', u'81010', u'81151', u'81303', u'81618', u'82050', u'820554ad0a1705572711', u'82242', u'82277', u'82324', u'82468', u'83049', u'83110', u'83118', u'83222', u'83332', u'83338', u'83355', u'83383', u'83600', u'83738', u'84', u'84025', u'84122', u'84128', u'84199', u'84484', u'85', u'85023', u'85069', u'85222', u'85233', u'8552', u'86021', u'861', u'864233', u'86688', u'86888', u'87021', u'87066', u'87070', u'87077', u'87121', u'87131', u'872', u'87239', u'87575', u'88039', u'88066', u'88088', u'88222', u'88600', u'88800', u'8883', u'88877', u'88888', u'89034', u'89070', u'89080', u'89105', u'89545', u'89555', u'89693', u'89938', u'8am', u'8ball', u'8lb', u'8p', u'8pm', u'8th', u'8wp', u'900', u'9061100010', u'910', u'9153', u'92h', u'930', u'9307622', u'945', u'946', u'95', u'9755', u'9758', u'99', u'9996', u'9ae', u'9am', u'9pm', u'9t', u'9th', u'9yt', u'____', u'a21', u'a30', u'aah', u'aaniye', u'aaooooright', u'aathi', u'abbey', u'abdomen', u'abeg', u'abel', u'aberdeen', u'abi', u'ability', u'abiola', u'abj', u'able', u'abnormally', u'about', u'aboutas', u'above', u'abroad', u'absence', u'absolutely', u'absolutly', u'abstract', u'abt', u'abta', u'aburo', u'abusers', u'ac', u'academic', u'acc', u'accent', u'accenture', u'accept', u'access', u'accessible', u'accidant', u'accident', u'accidentally', u'accommodation', u'accomodate', u'accomodations', u'accordin', u'accordingly', u'account', u'accounting', u'accounts', u'achan', u'ache', u'achieve', u'acid', u'acknowledgement', u'acl03530150pm', u'acnt', u'aco', u'across', u'act', u'acted', u'actin', u'acting', u'action', u'activ8', u'activate', u'active', u'activities', u'actor', u'actual', u'actually', u'ad', u'adam', u'add', u'addamsfa', u'added', u'addicted', u'addie', u'adding', u'address', u'adewale', u'adjustable', u'admin', u'administrator', u'admirer', u'admission', u'admit', u'adore', u'adoring', u'adp', u'adress', u'adrian', u'adrink', u'ads', u'adsense', u'adult', u'adults', u'advance', u'adventure', u'adventuring', u'advice', u'advise', u'advising', u'advisors', u'aeronautics', u'aeroplane', u'afew', u'affair', u'affairs', u'affection', u'affectionate', u'affections', u'affidavit', u'afford', u'afghanistan', u'afraid', u'africa', u'african', u'aft', u'after', u'afternon', u'afternoon', u'afterwards', u'aftr', u'ag', u'again', u'against', u'age', u'age16', u'age23', u'agency', u'agent', u'agents', u'ages', u'agidhane', u'aging', u'ago', u'agree', u'ah', u'aha', u'ahead', u'ahhh', u'ahhhh', u'ahmad', u'aids', u'aig', u'aight', u'ain', u'aint', u'air', u'air1', u'airport', u'airtel', u'aiya', u'aiyah', u'aiyar', u'aiyo', u'ajith', u'ak', u'aka', u'akon', u'al', u'alaipayuthe', u'album', u'alcohol', u'aldrine', u'alert', u'alertfrom', u'alerts', u'alex', u'alfie', u'algarve', u'algebra', u'ali', u'alian', u'alibi', u'alive', u'all', u'allah', u'allalo', u'allday', u'alle', u'allow', u'allowed', u'allows', u'almost', u'alone', u'along', u'alot', u'already', u'alright', u'alrite', u'also', u'alto18', u'alwa', u'always', u'alwys', u'am', u'amanda', u'amazing', u'ambitious', u'american', u'ami', u'amigos', u'amk', u'amla', u'amma', u'ammae', u'ammo', u'among', u'amongst', u'amore', u'amount', u'amp', u'amplikater', u'amrita', u'ams', u'amt', u'amused', u'an', u'anal', u'analysis', u'anand', u'and', u'anderson', u'andre', u'andres', u'andrews', u'angry', u'animal', u'animation', u'anna', u'annie', u'anniversary', u'announced', u'announcement', u'annoyin', u'annoying', u'anot', u'another', u'ans', u'ansr', u'answer', u'answered', u'answerin', u'answering', u'answers', u'answr', u'antelope', u'antha', u'anthony', u'anti', u'antibiotic', u'any', u'anybody', u'anymore', u'anyone', u'anyones', u'anyplaces', u'anythiing', u'anythin', u'anything', u'anythingtomorrow', u'anytime', u'anyway', u'anyways', u'anywhere', u'aom', u'apart', u'apartment', u'apes', u'apeshit', u'aphex', u'apnt', u'apo', u'apologetic', u'apologise', u'apologize', u'apology', u'app', u'apparently', u'appeal', u'appear', u'appendix', u'applausestore', u'applebees', u'apples', u'application', u'apply', u'applying', u'appointment', u'appointments', u'appreciate', u'appropriate', u'approve', u'approved', u'approx', u'apps', u'appt', u'appy', u'april', u'aproach', u'apt', u'aptitude', u'aquarius', u'ar', u'arab', u'arabian', u'arcade', u'archive', u'ard', u'are', u'area', u'aren', u'arent', u'arestaurant', u'aretaking', u'areyouunique', u'argentina', u'argh', u'argue', u'arguing', u'argument', u'arguments', u'aries', u'arise', u'arises', u'arm', u'armand', u'armenia', u'arms', u'arng', u'around', u'aroundn', u'arr', u'arrange', u'arranging', u'arrested', u'arrival', u'arrive', u'arrow', u'arsenal', u'art', u'arts', u'arty', u'arul', u'arun', u'as', u'asap', u'asda', u'ashes', u'ashley', u'ashwini', u'asia', u'asian', u'asjesus', u'ask', u'askd', u'asked', u'askin', u'asking', u'asks', u'asleep', u'asp', u'ass', u'assessment', u'asshole', u'assistance', u'associate', u'asssssholeeee', u'assume', u'assumed', u'asthere', u'astne', u'astoundingly', u'astrology', u'astronomer', u'asus', u'asusual', u'at', u'ate', u'athletic', u'athome', u'atlanta', u'atlast', u'atleast', u'atm', u'atrocious', u'attached', u'attempt', u'atten', u'attend', u'attending', u'attention', u'attitude', u'attraction', u'attractive', u'attracts', u'attributed', u'auction', u'audiitions', u'audition', u'audrey', u'audrie', u'august', u'aunt', u'aunties', u'aunts', u'aunty', u'aust', u'australia', u'auto', u'autocorrect', u'av', u'ava', u'availa', u'available', u'avalarr', u'avatar', u'avble', u'ave', u'avent', u'avenue', u'avin', u'avo', u'avoid', u'avoids', u'await', u'awaiting', u'awake', u'award', u'awarded', u'away', u'awesome', u'awkward', u'aww', u'awww', u'ax', u'axel', u'axis', u'ay', u'ayn', u'b4', u'b4190604', u'b4280703', u'b4u', u'b4utele', u'ba', u'ba128nnfwfly150ppm', u'babe', u'babes', u'baby', u'babygoodbye', u'babyjontet', u'babysit', u'babysitting', u'bac', u'back', u'backdoor', u'backwards', u'bad', u'badass', u'badly', u'badrith', u'bag', u'bags', u'bahamas', u'bailiff', u'bak', u'bakra', u'balance', u'ball', u'baller', u'balloon', u'bambling', u'band', u'bandages', u'bang', u'bani', u'bank', u'banks', u'banneduk', u'bar', u'barbie', u'barcelona', u'bare', u'barely', u'bari', u'barkleys', u'barmed', u'barolla', u'barred', u'barrel', u'barring', u'barry', u'bars', u'base', u'based', u'basic', u'basically', u'basket', u'basketball', u'bat', u'batch', u'batchlor', u'bath', u'bathe', u'bathing', u'bathroom', u'batt', u'battery', u'battle', u'bawling', u'bay', u'bb', u'bbc', u'bbd', u'bbdeluxe', u'bbq', u'bc', u'bcaz', u'bck', u'bcm', u'bcm1896wc1n3xx', u'bcm4284', u'bcmsfwc1n3xx', u'bcoz', u'bcum', u'bcums', u'bcz', u'bday', u'be', u'beads', u'bear', u'bears', u'beatings', u'beauties', u'beautiful', u'beauty', u'bec', u'becaus', u'because', u'becausethey', u'become', u'becoz', u'becz', u'bed', u'bedbut', u'bedrm', u'bedroom', u'beehoon', u'been', u'beendropping', u'beer', u'beers', u'befor', u'before', u'beg', u'beggar', u'begging', u'begin', u'begins', u'begun', u'behalf', u'behave', u'behind', u'bein', u'being', u'believe', u'belive', u'bell', u'bellearlier', u'belligerent', u'belly', u'belong', u'belongs', u'belovd', u'beloved', u'belt', u'ben', u'bend', u'beneficiary', u'benefits', u'bennys', u'bergkamp', u'best', u'best1', u'bet', u'beta', u'beth', u'betta', u'better', u'bettersn', u'bettr', u'between', u'beverage', u'bevies', u'beware', u'beyond', u'bf', u'bffs', u'bfore', u'bhaji', u'bhaskar', u'bhayandar', u'bian', u'bid', u'bids', u'big', u'bigger', u'biggest', u'bike', u'bill', u'billed', u'billion', u'bills', u'billy', u'bilo', u'bimbo', u'bin', u'biola', u'bird', u'birds', u'birla', u'biro', u'birth', u'birthdate', u'birthday', u'bishan', u'bit', u'bitch', u'bitching', u'bite', u'bits', u'biz', u'bk', u'black', u'blackberry', u'blacko', u'blah', u'blake', u'blame', u'blank', u'blanked', u'blanket', u'blankets', u'blastin', u'bleak', u'bless', u'blessed', u'blessing', u'blessings', u'blind', u'block', u'blocked', u'blog', u'blogging', u'blogspot', u'bloke', u'blokes', u'blonde', u'bloo', u'blood', u'bloody', u'bloomberg', u'blow', u'blowing', u'blown', u'blu', u'blue', u'bluetooth', u'bluetoothhdset', u'bluff', u'blur', u'bluray', u'bmw', u'board', u'boat', u'boatin', u'bob', u'body', u'bognor', u'bold', u'bold2', u'bomb', u'bone', u'bonus', u'boo', u'boobs', u'book', u'booked', u'booking', u'bookmark', u'books', u'bookshelf', u'boost', u'booty', u'bootydelious', u'bored', u'borin', u'boring', u'born', u'borrow', u'boss', u'boston', u'bot', u'both', u'bother', u'bottle', u'bottom', u'bought', u'boundaries', u'bout', u'bowa', u'bowl', u'bowls', u'box', u'box1146', u'box139', u'box177', u'box245c2150pm', u'box326', u'box334', u'box334sk38ch', u'box385', u'box39822', u'box403', u'box420', u'box42wr29c', u'box434sk38wp150ppm18', u'box61', u'box95qu', u'box97n7qp', u'boy', u'boye', u'boyf', u'boyfriend', u'boys', u'boytoy', u'bpo', u'brah', u'brain', u'braindance', u'brainless', u'brainy', u'brand', u'brandy', u'bras', u'bray', u'brb', u'brdget', u'bread', u'breadstick', u'break', u'breaker', u'breakfast', u'breakin', u'breaking', u'breaks', u'breath', u'breathe', u'breathe1', u'breather', u'breathing', u'breeze', u'breezy', u'bribe', u'brief', u'bright', u'brilliant', u'brilliantly', u'brin', u'bring', u'bringing', u'brings', u'brison', u'bristol', u'british', u'britney', u'bro', u'broad', u'broke', u'broken', u'brolly', u'bros', u'broth', u'brothas', u'brother', u'brothers', u'brought', u'brownie', u'brownies', u'browser', u'browsin', u'bruce', u'brum', u'bruv', u'bslvyl', u'bsn', u'bsnl', u'bstfrnd', u'bt', u'bthere', u'btw', u'btwn', u'bubbletext', u'bucks', u'bud', u'buddy', u'buddys', u'budget', u'buen', u'buff', u'buffet', u'buffy', u'bugis', u'building', u'built', u'bulbs', u'bull', u'bullshit', u'bunch', u'bundle', u'buns', u'burger', u'burgundy', u'burial', u'burn', u'burning', u'burns', u'burnt', u'burrito', u'bus', u'bus8', u'buses', u'busetop', u'business', u'busty', u'busy', u'but', u'butt', u'buttheres', u'butting', u'buy', u'buyer', u'buyers', u'buying', u'buz', u'buzy', u'buzz', u'buzzzz', u'bw', u'bx', u'bx420', u'bx526', u'by', u'bye', u'c52', u'cab', u'cabin', u'cable', u'cafe', u'cage', u'cake', u'cal', u'calculated', u'calculation', u'cali', u'calicut', u'california', u'call', u'call09050000327', u'call2optout', u'callback', u'callcost', u'calld', u'called', u'caller', u'callers', u'callertune', u'callfreefone', u'callin', u'calling', u'callon', u'calls', u'calls1', u'calm', u'cam', u'camcorder', u'came', u'camera', u'campus', u'camry', u'can', u'canada', u'canal', u'canary', u'cancel', u'canceled', u'cancelled', u'cancer', u'canlove', u'cann', u'canname', u'cannot', u'cant', u'cantdo', u'capacity', u'capital', u'cappuccino', u'caps', u'captain', u'captaining', u'car', u'card', u'cardiff', u'cardin', u'cards', u'care', u'careabout', u'cared', u'career', u'careers', u'careful', u'carefully', u'careless', u'cares', u'caring', u'carlie', u'carlin', u'carlos', u'carly', u'carolina', u'caroline', u'carpark', u'carry', u'carryin', u'cars', u'cartons', u'cartoon', u'case', u'cash', u'cashbin', u'cashed', u'cashto', u'casing', u'cast', u'casting', u'castor', u'casualty', u'cat', u'catch', u'catches', u'catching', u'categories', u'caught', u'cause', u'causing', u'cave', u'caveboy', u'cbe', u'cc', u'cc100p', u'ccna', u'cd', u'cdgt', u'cds', u'cedar', u'ceiling', u'celeb', u'celebrate', u'celebrated', u'celebration', u'cell', u'census', u'center', u'centre', u'cer', u'ceri', u'certainly', u'certificate', u'cha', u'chachi', u'chad', u'chain', u'challenge', u'challenging', u'champ', u'champlaxigating', u'champneys', u'chance', u'change', u'changed', u'changes', u'changing', u'channel', u'chapel', u'chaps', u'chapter', u'character', u'characters', u'charge', u'charged', u'charges', u'charity', u'charles', u'charlie', u'charming', u'chart', u'charts', u'chase', u'chasing', u'chastity', u'chat', u'chat80155', u'chatlines', u'chatter', u'chatting', u'cheap', u'cheaper', u'cheat', u'cheating', u'chechi', u'check', u'checkboxes', u'checked', u'checking', u'checkmate', u'checkup', u'cheek', u'cheer', u'cheered', u'cheers', u'cheery', u'cheese', u'cheetos', u'chef', u'chennai', u'cherish', u'cherthala', u'chess', u'chest', u'chex', u'cheyyamo', u'chez', u'chg', u'chick', u'chicken', u'chief', u'chik', u'chikku', u'child', u'childish', u'childporn', u'children', u'chile', u'chill', u'chillin', u'china', u'chinatown', u'chinchillas', u'chinese', u'chinky', u'chinnu', u'chip', u'chit', u'chk', u'chloe', u'chocolate', u'choice', u'choices', u'choose', u'choosing', u'chop', u'chords', u'chores', u'chosen', u'christ', u'christians', u'christmas', u'chuck', u'chuckin', u'church', u'ciao', u'cine', u'cinema', u'citizen', u'city', u'citylink', u'cl', u'claim', u'claire', u'clarification', u'clarify', u'clark', u'clash', u'class', u'classes', u'classmates', u'claypot', u'cld', u'clean', u'cleaning', u'clear', u'cleared', u'clearer', u'clearing', u'clearly', u'clever', u'click', u'cliff', u'cliffs', u'clock', u'clocks', u'clos1', u'close', u'closed', u'closer', u'closes', u'cloth', u'clothes', u'cloud', u'clover', u'club', u'club4', u'club4mobiles', u'clubsaisai', u'clue', u'cm', u'cm2', u'cme', u'cmon', u'cn', u'cnl', u'cnn', u'cnupdates', u'co', u'coach', u'coast', u'coca', u'coccooning', u'cochin', u'cock', u'cocksuckers', u'coco', u'code', u'coffee', u'coimbatore', u'coin', u'coincidence', u'coins', u'cola', u'cold', u'colin', u'collages', u'collapsed', u'colleagues', u'collect', u'collected', u'collecting', u'collection', u'colleg', u'college', u'color', u'colour', u'colours', u'com', u'com1win150ppmx3age16', u'combination', u'come', u'comedy', u'comes', u'comfey', u'comfort', u'comin', u'coming', u'comingdown', u'command', u'comment', u'commercial', u'commit', u'common', u'community', u'como', u'comp', u'companies', u'companion', u'company', u'compare', u'compass', u'competition', u'complacent', u'complain', u'complaining', u'complaint', u'complementary', u'complete', u'completed', u'completely', u'completes', u'completing', u'complexities', u'complimentary', u'compliments', u'comprehensive', u'compromised', u'compulsory', u'computer', u'computerless', u'comuk', u'concentrate', u'concentrating', u'concern', u'concert', u'condition', u'conditions', u'conducts', u'conected', u'conference', u'confidence', u'configure', u'confirm', u'confirmd', u'confirmed', u'conform', u'confused', u'confuses', u'congrats', u'congratulations', u'connect', u'connected', u'connection', u'connections', u'cons', u'consensus', u'consent', u'conserve', u'consider', u'considering', u'consistently', u'console', u'constant', u'constantly', u'contact', u'contacted', u'contacts', u'contains', u'content', u'contented', u'contention', u'contents', u'continent', u'continue', u'continued', u'contract', u'control', u'convenience', u'conversations', u'converted', u'converter', u'convey', u'conveying', u'convince', u'convinced', u'convincing', u'cook', u'cooked', u'cookies', u'cooking', u'cool', u'cooperative', u'copies', u'coping', u'cops', u'copy', u'cornwall', u'corporation', u'corrct', u'correct', u'correction', u'correctly', u'corrupt', u'corvettes', u'cos', u'cosign', u'cost', u'costa', u'costing', u'costs', u'costumes', u'couch', u'cough', u'could', u'coulda', u'couldn', u'count', u'countin', u'countinlots', u'country', u'counts', u'coupla', u'couple', u'courage', u'courageous', u'course', u'court', u'courtroom', u'cousin', u'cover', u'coveragd', u'covers', u'coz', u'cozy', u'cps', u'cr', u'cr01327bt', u'cr9', u'crab', u'crack', u'craigslist', u'crammed', u'cramps', u'crap', u'crash', u'crashed', u'crashing', u'crave', u'craving', u'craziest', u'crazy', u'crazyin', u'crckt', u'cream', u'created', u'creativity', u'credit', u'credited', u'credits', u'creep', u'creepy', u'cres', u'cribbs', u'cricketer', u'crickiting', u'cried', u'crisis', u'cro1327', u'crore', u'cross', u'crossing', u'crowd', u'croydon', u'crucify', u'cruel', u'cruise', u'cruisin', u'crushes', u'cry', u'cs', u'csbcm4235wc1n3xx', u'csc', u'cst', u'cstore', u'ctagg', u'ctargg', u'cts', u'cttargg', u'ctter', u'cttergg', u'ctxt', u'cuck', u'cud', u'cuddle', u'cuddled', u'cuddling', u'culdnt', u'cultures', u'cum', u'cumin', u'cumming', u'cup', u'cupboard', u'curfew', u'curious', u'current', u'currently', u'curry', u'cusoon', u'cust', u'custcare', u'custom', u'customer', u'customercare', u'customers', u'customersqueries', u'cut', u'cute', u'cutefrnd', u'cutest', u'cutter', u'cutting', u'cuz', u'cw25wx', u'cyclists', u'cysts', u'd3wv', u'da', u'daaaaa', u'dabbles', u'dad', u'daddy', u'dads', u'dai', u'daily', u'dammit', u'damn', u'dan', u'dance', u'dancin', u'dancing', u'dane', u'dang', u'danger', u'dao', u'dare', u'dark', u'darker', u'darkest', u'darkness', u'darlin', u'darling', u'darlings', u'darren', u'dartboard', u'das', u'dat', u'data', u'date', u'datebox1282essexcm61xn', u'dates', u'dating', u'dats', u'datz', u'dave', u'dawns', u'day', u'days', u'daytime', u'daywith', u'db', u'dbuk', u'dd', u'de', u'dead', u'deal', u'dealer', u'dealing', u'deals', u'dear', u'dear1', u'dearer', u'dearly', u'death', u'debating', u'decades', u'december', u'decent', u'decide', u'decided', u'deciding', u'decimal', u'decision', u'decisions', u'deck', u'decking', u'dedicate', u'dedicated', u'deduct', u'deep', u'deepak', u'deepest', u'deeraj', u'def', u'defeat', u'defer', u'definite', u'definitely', u'definitly', u'defo', u'degrees', u'dehydrated', u'dehydration', u'del', u'delay', u'delayed', u'delete', u'deleted', u'delhi', u'delicious', u'deliver', u'delivered', u'deliveredtomorrow', u'delivery', u'deltomorrow', u'deluxe', u'dem', u'demand', u'den', u'dena', u'dengra', u'denis', u'dent', u'dental', u'dentist', u'dentists', u'deny', u'denying', u'department', u'dependable', u'dependents', u'depends', u'deposit', u'deposited', u'depression', u'derek', u'derp', u'describe', u'description', u'desert', u'deserve', u'designation', u'desires', u'desk', u'desparate', u'desparately', u'desperate', u'despite', u'dessert', u'destination', u'detailed', u'details', u'determine', u'determined', u'detroit', u'deus', u'develop', u'developed', u'developer', u'device', u'devils', u'devouring', u'dey', u'dhanush', u'dhina', u'dhoni', u'dhorte', u'di', u'dial', u'dialling', u'dialogue', u'diamonds', u'diapers', u'dice', u'dick', u'dict', u'dictionary', u'did', u'didn', u'didnt', u'didntgive', u'die', u'died', u'diet', u'dieting', u'diff', u'difference', u'differences', u'different', u'difficult', u'difficulties', u'dificult', u'digi', u'digital', u'dignity', u'dileep', u'dime', u'dimension', u'din', u'dine', u'dined', u'ding', u'dinner', u'dint', u'dip', u'dippeditinadew', u'direct', u'directly', u'director', u'directors', u'dirt', u'dirtiest', u'dirty', u'dis', u'disagreeable', u'disappeared', u'disappointment', u'disaster', u'disasters', u'disc', u'disclose', u'disconnect', u'disconnected', u'discount', u'discreet', u'discuss', u'discussed', u'diseases', u'dislikes', u'dismay', u'dismissial', u'display', u'distance', u'distract', u'disturb', u'disturbance', u'disturbing', u'ditto', u'divert', u'division', u'divorce', u'diwali', u'dizzamn', u'dizzee', u'dl', u'dled', u'dlf', u'dload', u'dnt', u'do', u'dob', u'dobby', u'doc', u'dock', u'docks', u'docs', u'doctor', u'documents', u'does', u'doesdiscount', u'doesn', u'doesnt', u'dog', u'dogbreath', u'dogg', u'doggin', u'dogging', u'doggy', u'dogs', u'dogwood', u'doin', u'doinat', u'doing', u'dokey', u'doll', u'dollar', u'dollars', u'dolls', u'dom', u'domain', u'don', u'donate', u'done', u'donno', u'dont', u'dontcha', u'dontignore', u'dontmatter', u'dontplease', u'dooms', u'door', u'doors', u'dorm', u'dormitory', u'dorothy', u'dose', u'dosomething', u'dot', u'double', u'doublemins', u'doubles', u'doubletxt', u'doubt', u'doug', u'dough', u'down', u'download', u'downloaded', u'downloads', u'downon', u'downstem', u'dps', u'dr', u'dracula', u'drama', u'dramastorm', u'dramatic', u'drastic', u'draw', u'draws', u'dreading', u'dream', u'dreams', u'dreamz', u'dress', u'dresser', u'drink', u'drinkin', u'drinking', u'drinks', u'drive', u'driver', u'drivin', u'driving', u'drizzling', u'drms', u'drop', u'dropped', u'drove', u'drpd', u'drug', u'drugdealer', u'drugs', u'drunk', u'drunkard', u'drunken', u'drvgsto', u'dry', u'dt', u'dual', u'dub', u'dubsack', u'duchess', u'ducking', u'dude', u'dudes', u'dudette', u'due', u'duffer', u'dull', u'dumb', u'dun', u'dungerees', u'dunno', u'duo', u'durban', u'during', u'dusk', u'duvet', u'dvd', u'dvg', u'dwn', u'dysentry', u'e14', u'each', u'eachother', u'ear', u'earlier', u'earliest', u'early', u'earn', u'ears', u'earth', u'easier', u'easiest', u'easily', u'east', u'eastenders', u'easter', u'easy', u'eat', u'eaten', u'eatin', u'eating', u'ebay', u'ec2a', u'echo', u'eckankar', u'ecstacy', u'ecstasy', u'ed', u'edge', u'edhae', u'edison', u'edu', u'education', u'educational', u'edukkukayee', u'edwards', u'eek', u'eerie', u'effect', u'effects', u'efficient', u'efreefone', u'eg', u'egbon', u'egg', u'eggs', u'ego', u'eh', u'eight', u'eighth', u'eightish', u'eire', u'either', u'ela', u'elaborate', u'elama', u'elaya', u'eldest', u'election', u'elections', u'electricity', u'elephant', u'eleven', u'ello', u'else', u'elsewhere', u'elvis', u'em', u'email', u'embarassed', u'embarassing', u'embarrassed', u'embassy', u'emerging', u'emily', u'employee', u'employer', u'empty', u'en', u'end', u'ended', u'ending', u'endless', u'ends', u'enemies', u'enemy', u'energy', u'eng', u'engaged', u'engagement', u'england', u'english', u'enjoy', u'enjoyed', u'enjoyin', u'enketa', u'ennal', u'enough', u'enter', u'entered', u'entertain', u'entertaining', u'entire', u'entirely', u'entitled', u'entrepreneurs', u'entropication', u'entry', u'entry41', u'enuff', u'envelope', u'environment', u'epi', u'eppolum', u'epsilon', u'equally', u'er', u'ere', u'ericsson', u'erm', u'erode', u'erotic', u'err', u'error', u'errors', u'ertini', u'eruku', u'erupt', u'erutupalam', u'esaplanade', u'escape', u'ese', u'eshxxxxxxxxxxx', u'espe', u'especially', u'esplanade', u'essential', u'establish', u'eta', u'etc', u'ethnicity', u'euro', u'euro2004', u'eurodisinc', u'europe', u'evaporated', u'eve', u'eveb', u'even', u'evening', u'evenings', u'event', u'events', u'ever', u'every', u'every1', u'everybody', u'everyday', u'everyone', u'everyones', u'everyso', u'everythin', u'everything', u'everytime', u'everywhere', u'evey', u'eviction', u'evil', u'evn', u'evng', u'evo', u'evone', u'evr', u'evrey', u'evry1', u'evrydy', u'ew', u'ex', u'exact', u'exactly', u'exam', u'exams', u'excellent', u'except', u'excited', u'exciting', u'excuse', u'excused', u'excuses', u'exe', u'executive', u'exeter', u'exhaust', u'exhausted', u'exhibition', u'exist', u'exmpel', u'exorcism', u'exorcist', u'exp', u'expect', u'expecting', u'expects', u'expensive', u'experience', u'experiment', u'expert', u'expired', u'expires', u'expiry', u'explain', u'explicit', u'explicitly', u'explosive', u'exposed', u'exposes', u'express', u'expression', u'expressoffer', u'ext', u'exterminator', u'extra', u'extract', u'ey', u'eye', u'eyed', u'eyes', u'fa', u'fab', u'faber', u'face', u'facebook', u'facilities', u'fact', u'factory', u'facts', u'faded', u'faggot', u'faggy', u'faglord', u'failed', u'failing', u'fails', u'failure', u'fair', u'fake', u'fakeye', u'fal', u'falconerf', u'fall', u'fallen', u'falling', u'falls', u'fals', u'famamus', u'family', u'famous', u'fan', u'fancied', u'fancies', u'fancy', u'fans', u'fantasies', u'fantastic', u'fantasy', u'far', u'farm', u'farrell', u'farting', u'fassyole', u'fast', u'faster', u'fastest', u'fat', u'fated', u'father', u'fathima', u'fats', u'fatty', u'fault', u'fav', u'fave', u'favor', u'favorite', u'favour', u'favourite', u'fb', u'fear', u'feathery', u'features', u'feb', u'february', u'fed', u'feed', u'feel', u'feelin', u'feeling', u'feels', u'fees', u'feet', u'fell', u'fellow', u'felt', u'female', u'feng', u'fetch', u'fetching', u'fever', u'few', u'fffff', u'ffffffffff', u'ffffuuuuuuu', u'fgkslpo', u'fgkslpopw', u'fidalfication', u'field', u'fieldof', u'fiend', u'fifa', u'fifteen', u'fifth', u'fifty', u'fight', u'fighting', u'fightng', u'fights', u'figure', u'figures', u'figuring', u'file', u'files', u'fill', u'filled', u'filling', u'fills', u'film', u'films', u'filth', u'filthy', u'filthyguys', u'final', u'finalise', u'finally', u'finance', u'financial', u'find', u'finding', u'fine', u'finest', u'fingers', u'finish', u'finished', u'finishes', u'finishing', u'fink', u'fire', u'fired', u'firefox', u'fireplace', u'fires', u'first', u'fish', u'fishhead', u'fishrman', u'fit', u'five', u'fix', u'fixd', u'fixed', u'fixedline', u'fixes', u'fizz', u'flag', u'flaked', u'flaky', u'flame', u'flash', u'flat', u'flatter', u'flavour', u'flea', u'flew', u'flies', u'flight', u'flights', u'flim', u'flip', u'flippin', u'flirt', u'flirting', u'floating', u'flood', u'floor', u'floppy', u'flow', u'flower', u'flowers', u'flowing', u'fluids', u'flung', u'flute', u'fly', u'flyng', u'fml', u'fo', u'fold', u'foley', u'follow', u'followed', u'followin', u'following', u'follows', u'fondly', u'fone', u'foned', u'fones', u'fonin', u'food', u'fool', u'fooled', u'foot', u'football', u'footbl', u'footie', u'footprints', u'footy', u'for', u'force', u'forced', u'foregate', u'foreign', u'forever', u'forevr', u'forfeit', u'forget', u'forgets', u'forgiven', u'forgiveness', u'forgot', u'forgt', u'form', u'formal', u'formally', u'format', u'formatting', u'forms', u'fortune', u'forum', u'forums', u'forward', u'forwarded', u'forwarding', u'found', u'foundurself', u'fourth', u'foward', u'fowler', u'fox', u'fps', u'fr', u'fraction', u'fran', u'frank', u'frankie', u'franxx', u'franyxxxxx', u'frauds', u'freak', u'freaking', u'freaky', u'fredericksburg', u'free', u'free2day', u'freedom', u'freeentry', u'freefone', u'freely', u'freemsg', u'freephone', u'freezing', u'freinds', u'fren', u'french', u'frens', u'frequently', u'fresh', u'fret', u'fri', u'friday', u'fridays', u'fridge', u'fried', u'friend', u'friends', u'friendsare', u'friendship', u'friendships', u'fring', u'fringe', u'frm', u'frmcloud', u'frnd', u'frnds', u'frndship', u'frndsship', u'frndz', u'fro', u'frog', u'from', u'fromm', u'fromwrk', u'front', u'frontierville', u'fruit', u'frying', u'ft', u'fuck', u'fucked', u'fuckin', u'fucking', u'fucks', u'fudge', u'fuelled', u'fujitsu', u'ful', u'fulfil', u'full', u'fullonsms', u'fumbling', u'fun', u'function', u'functions', u'fund', u'fundamentals', u'funeral', u'funk', u'funky', u'funny', u'funs', u'furniture', u'further', u'fusion', u'future', u'fuuuuck', u'fwiw', u'fyi', u'g696ga', u'ga', u'gage', u'gail', u'gailxx', u'gain', u'gained', u'gal', u'galileo', u'gals', u'gam', u'gamb', u'game', u'games', u'gamestar', u'gang', u'gap', u'gaps', u'garage', u'garbage', u'garden', u'gardener', u'garments', u'gary', u'gas', u'gastroenteritis', u'gate', u'gauge', u'gautham', u'gauti', u'gave', u'gay', u'gayle', u'gays', u'gaytextbuddy', u'gbp', u'gbp1', u'gbp5', u'gd', u'gdeve', u'ge', u'gee', u'geeee', u'geeeee', u'gei', u'gek1510', u'gender', u'general', u'generally', u'genes', u'genius', u'gent', u'gentle', u'gentleman', u'gently', u'genuine', u'genus', u'geoenvironmental', u'george', u'ger', u'germany', u'get', u'get4an18th', u'getiing', u'geting', u'gets', u'getsleep', u'getstop', u'gettin', u'getting', u'getzed', u'gf', u'ghodbandar', u'ghost', u'gibbs', u'gibe', u'gift', u'gifted', u'gifts', u'gigolo', u'gimme', u'gimmi', u'gin', u'girl', u'girlfrnd', u'girlie', u'girls', u'gist', u'giv', u'give', u'given', u'gives', u'giving', u'glad', u'glands', u'glasgow', u'glass', u'global', u'glory', u'gloucesterroad', u'gm', u'gmw', u'gn', u'gnarls', u'gnt', u'gnun', u'go', u'go2', u'go2sri', u'goal', u'goals', u'gobi', u'god', u'gods', u'goes', u'goggles', u'goin', u'going', u'gokila', u'gold', u'golddigger', u'golden', u'goldviking', u'golf', u'gon', u'gona', u'gone', u'gong', u'gonna', u'gonnamissu', u'good', u'goodevening', u'goodfriend', u'goodies', u'goodmate', u'goodmorning', u'goodnight', u'goodnite', u'goodnoon', u'goodo', u'goods', u'goodtime', u'google', u'gopalettan', u'gorgeous', u'goss', u'gossip', u'got', u'gota', u'gotbabes', u'goto', u'gotta', u'gotten', u'gotto', u'goverment', u'govt', u'gower', u'gprs', u'gpu', u'gr8', u'gr8fun', u'grab', u'grace', u'graduated', u'grahmbell', u'gram', u'grams', u'gran', u'grand', u'grandfather', u'grandmas', u'granite', u'granted', u'graphics', u'grasp', u'grateful', u'grave', u'gravel', u'gravity', u'gray', u'grazed', u'gre', u'great', u'greatest', u'green', u'greet', u'greeting', u'greetings', u'grief', u'grinder', u'grins', u'grinule', u'grocers', u'grooved', u'groovy', u'groovying', u'ground', u'group', u'grow', u'growing', u'grown', u'grownup', u'grr', u'grumble', u'grumpy', u'gsex', u'gsoh', u'gt', u'gua', u'guai', u'guarantee', u'guaranteed', u'gucci', u'gud', u'gudni8', u'gudnite', u'gudnyt', u'guess', u'guessed', u'guessin', u'guessing', u'guidance', u'guide', u'guides', u'guilty', u'guitar', u'gumby', u'guoyang', u'gurl', u'gut', u'guy', u'guys', u'gv', u'gving', u'gym', u'gymnastics', u'gynae', u'gyno', u'ha', u'habba', u'habit', u'hack', u'had', u'hadn', u'haf', u'haha', u'hahaha', u'hai', u'hail', u'hair', u'haircut', u'haiyoh', u'haiz', u'half', u'half8th', u'hall', u'halla', u'hallaq', u'halloween', u'ham', u'hamper', u'hamster', u'hand', u'handed', u'handle', u'hands', u'handset', u'handsome', u'handsomes', u'hang', u'hanger', u'hangin', u'hanging', u'hanks', u'hannaford', u'happen', u'happend', u'happened', u'happening', u'happens', u'happier', u'happiest', u'happily', u'happiness', u'happy', u'hard', u'hardcore', u'harder', u'hardest', u'hari', u'harish', u'harri', u'harry', u'has', u'hasbro', u'hasn', u'hasnt', u'hassling', u'hat', u'hate', u'hates', u'haughaighgtujhyguj', u'haul', u'haunt', u'hav', u'hav2hear', u'hava', u'have', u'haven', u'havent', u'haventcn', u'havin', u'having', u'havn', u'havnt', u'hdd', u'he', u'head', u'headache', u'headin', u'heading', u'heads', u'headset', u'heal', u'healer', u'healthy', u'hear', u'heard', u'hearin', u'hearing', u'heart', u'hearted', u'hearts', u'heater', u'heaven', u'heavily', u'heavy', u'hectic', u'hee', u'heehee', u'hehe', u'height', u'held', u'helen', u'helens', u'hell', u'hella', u'hello', u'helloooo', u'help', u'help08700621170150p', u'help08718728876', u'helpful', u'helping', u'helpline', u'helps', u'heltini', u'hen', u'hence', u'henry', u'hep', u'her', u'here', u'hero', u'heroes', u'heron', u'herself', u'hes', u'hesitant', u'hesitate', u'hesitation', u'hex', u'hey', u'hf8', u'hg', u'hhahhaahahah', u'hi', u'hidden', u'hide', u'hides', u'high', u'highest', u'hilarious', u'hill', u'hillsborough', u'him', u'himso', u'hint', u'hip', u'hiphop', u'hire', u'his', u'history', u'hit', u'hitler', u'hitman', u'hitter', u'hiya', u'hl', u'hlp', u'hm', u'hme', u'hmm', u'hmmm', u'hmmmm', u'hmmross', u'hmph', u'hmv', u'hmv1', u'ho', u'hockey', u'hogidhe', u'hol', u'holby', u'hold', u'holder', u'holding', u'holiday', u'holla', u'hollalater', u'hols', u'holy', u'home', u'homeowners', u'hon', u'honest', u'honestly', u'honesty', u'honey', u'honeybee', u'honeymoon', u'honi', u'hont', u'hoo', u'hooch', u'hoody', u'hook', u'hoops', u'hop', u'hope', u'hoped', u'hopefully', u'hopeing', u'hoping', u'hor', u'horniest', u'horny', u'horo', u'horrible', u'horse', u'hos', u'hospital', u'hospitals', u'host', u'hostel', u'hostile', u'hot', u'hotel', u'hotels', u'hottest', u'hour', u'hourish', u'hours', u'house', u'housewives', u'housing', u'how', u'howard', u'howda', u'howdy', u'however', u'hows', u'howu', u'howz', u'hp', u'hp20', u'hppnss', u'hr', u'hrishi', u'hrs', u'hsbc', u'http', u'hu', u'hubby', u'hudgi', u'hug', u'huge', u'hugh', u'hugs', u'huh', u'hui', u'huiming', u'hum', u'humanities', u'hun', u'hundreds', u'hungover', u'hungry', u'hunks', u'hunny', u'hunt', u'hunting', u'hurricanes', u'hurried', u'hurry', u'hurt', u'hurting', u'hurts', u'husband', u'hussey', u'hv', u'hv9d', u'hvae', u'hw', u'hyde', u'hype', u'hypertension', u'hypotheticalhuagauahahuagahyuhagga', u'iam', u'ias', u'ibh', u'ibhltd', u'ibiza', u'ibm', u'ibn', u'ibored', u'ibuprofens', u'ic', u'iccha', u'ice', u'icic', u'icicibank', u'icmb3cktz8r7', u'icon', u'id', u'idc', u'idea', u'ideal', u'ideas', u'identification', u'identifier', u'idew', u'idiot', u'idk', u'idps', u'ie', u'if', u'ifink', u'ig11', u'ignorant', u'ignore', u'ignoring', u'ijust', u'ikea', u'ikno', u'iknow', u'il', u'ill', u'illness', u'illspeak', u'ilol', u'im', u'image', u'imagination', u'imagine', u'imat', u'imf', u'img', u'imin', u'imma', u'immed', u'immediately', u'immunisation', u'imp', u'impatient', u'impede', u'implications', u'important', u'importantly', u'imposed', u'impossible', u'impress', u'impressed', u'impression', u'improve', u'improved', u'in', u'in2', u'inc', u'inch', u'inches', u'incident', u'inclu', u'include', u'includes', u'including', u'inclusive', u'incomm', u'inconsiderate', u'inconvenience', u'inconvenient', u'incorrect', u'increase', u'incredible', u'increments', u'indeed', u'independently', u'index', u'india', u'indian', u'indians', u'indicate', u'individual', u'indyarocks', u'inever', u'infact', u'infections', u'infernal', u'influx', u'info', u'inform', u'information', u'informed', u'infra', u'infront', u'ing', u'ingredients', u'initiate', u'ink', u'inlude', u'inmind', u'inner', u'innings', u'innocent', u'innu', u'inperialmusic', u'inpersonation', u'inr', u'insects', u'insha', u'inshah', u'inside', u'inspection', u'inst', u'installing', u'instant', u'instantly', u'instead', u'instituitions', u'instructions', u'insurance', u'intelligent', u'intend', u'intention', u'interest', u'interested', u'interesting', u'interflora', u'interfued', u'internal', u'internet', u'interview', u'interviews', u'interviw', u'intha', u'into', u'intrepid', u'intro', u'intrude', u'invaders', u'invention', u'invest', u'investigate', u'invitation', u'invite', u'invited', u'inviting', u'invnted', u'invoices', u'involve', u'involved', u'iouri', u'ip4', u'ipad', u'ipaditan', u'ipads', u'iphone', u'ipod', u'iq', u'iraq', u'irene', u'iriver', u'iron', u'ironing', u'irritated', u'irritates', u'irritating', u'irritation', u'irulinae', u'is', u'isaiah', u'iscoming', u'ish', u'island', u'islands', u'isn', u'isnt', u'issue', u'issues', u'isv', u'it', u'italian', u'itcould', u'items', u'iter', u'itna', u'itried2tell', u'its', u'itself', u'itwhichturnedinto', u'itxt', u'itz', u'ive', u'iwana', u'iwas', u'iyo', u'iz', u'izzit', u'j5q', u'j89', u'jabo', u'jack', u'jacket', u'jackpot', u'jackson', u'jacuzzi', u'jada', u'jade', u'jaklin', u'jam', u'james', u'jamster', u'jan', u'jane', u'janinexx', u'january', u'janx', u'jap', u'japanese', u'jas', u'jason', u'java', u'jay', u'jaya', u'jaykwon', u'jazz', u'jb', u'jd', u'je', u'jealous', u'jeans', u'jeetey', u'jeevithathile', u'jen', u'jenny', u'jenxxx', u'jeremiah', u'jeri', u'jerk', u'jerry', u'jersey', u'jess', u'jesus', u'jet', u'jetton', u'jewelry', u'jez', u'ji', u'jia', u'jiayin', u'jiu', u'jjc', u'jo', u'joanna', u'job', u'jobs', u'jobyet', u'jod', u'jog', u'jogging', u'john', u'join', u'joined', u'joining', u'joke', u'joker', u'jokes', u'jokin', u'joking', u'jolly', u'jolt', u'jones', u'jontin', u'jordan', u'jos', u'journey', u'joy', u'joys', u'jp', u'js', u'jsco', u'jst', u'jstfrnd', u'jsut', u'juan', u'judgemental', u'juicy', u'jul', u'jules', u'juliana', u'julianaland', u'july', u'jump', u'jumpers', u'june', u'jungle', u'junna', u'jurong', u'jus', u'just', u'justify', u'juswoke', u'juz', u'k52', u'k718', u'kaaj', u'kadeem', u'kaiez', u'kaila', u'kalainar', u'kallis', u'kalstiya', u'kama', u'kanagu', u'kane', u'kanji', u'kano', u'kappa', u'karaoke', u'karnan', u'karo', u'kate', u'katexxx', u'kath', u'kavalan', u'kay', u'kaypoh', u'kb', u'ke', u'keen', u'keep', u'keeping', u'keeps', u'kegger', u'ken', u'kent', u'kept', u'kerala', u'keralacircle', u'keris', u'kettoda', u'key', u'keypad', u'keys', u'keyword', u'kg', u'khelate', u'ki', u'kicchu', u'kick', u'kickboxing', u'kickoff', u'kicks', u'kid', u'kidding', u'kids', u'kidz', u'kiefer', u'kill', u'killed', u'killing', u'kills', u'kilos', u'kind', u'kinda', u'kindly', u'king', u'kingdom', u'kintu', u'kiosk', u'kip', u'kisi', u'kiss', u'kisses', u'kit', u'kitty', u'kl341', u'knackered', u'knee', u'knees', u'knew', u'knickers', u'knocking', u'know', u'knowing', u'known', u'knows', u'knw', u'ko', u'kochi', u'kolathupalayam', u'konw', u'korche', u'korli', u'korte', u'kotees', u'kothi', u'kr', u'kuch', u'kudi', u'kusruthi', u'kvb', u'kz', u'l8', u'l8er', u'l8r', u'l8rs', u'l8tr', u'la', u'la1', u'la3', u'la32wu', u'lab', u'labor', u'lac', u'lacking', u'lacs', u'laden', u'ladies', u'lady', u'lag', u'lage', u'laid', u'lakhs', u'lambda', u'lambu', u'lancaster', u'land', u'landing', u'landline', u'landlineonly', u'landlines', u'landmark', u'lands', u'lane', u'langport', u'language', u'lanka', u'lanre', u'laptop', u'lar', u'lara', u'laready', u'large', u'largest', u'lark', u'lasagna', u'last', u'lastest', u'lasting', u'late', u'lately', u'later', u'latest', u'latests', u'latr', u'laugh', u'laughed', u'laughing', u'laughs', u'laundry', u'laurie', u'lautech', u'lavender', u'law', u'laxinorficated', u'lay', u'lays', u'lazy', u'lccltd', u'ldew', u'ldn', u'ldnw15h', u'le', u'lead', u'leadership', u'leading', u'leads', u'leaf', u'leafcutter', u'leanne', u'learn', u'least', u'least5times', u'leave', u'leaves', u'leaving', u'lect', u'lecture', u'left', u'legal', u'legitimat', u'legs', u'leh', u'lei', u'lekdog', u'lemme', u'length', u'lengths', u'lennon', u'leona', u'leonardo', u'les', u'less', u'lesser', u'lesson', u'lessons', u'let', u'lets', u'letter', u'letters', u'level', u'lf56', u'liao', u'lib', u'libertines', u'library', u'lick', u'licks', u'lido', u'lie', u'lies', u'life', u'lifeis', u'lifetime', u'lifpartnr', u'lift', u'lifting', u'light', u'lighters', u'lightly', u'lik', u'like', u'liked', u'likely', u'likes', u'likeyour', u'lil', u'lily', u'limit', u'limited', u'limiting', u'limits', u'lindsay', u'line', u'linear', u'lined', u'linerental', u'lines', u'lingo', u'link', u'links', u'linux', u'lion', u'lionm', u'lionp', u'lions', u'lip', u'lipo', u'lips', u'list', u'listed', u'listen', u'listened2the', u'listener', u'listening', u'listening2the', u'listn', u'lit', u'literally', u'litres', u'little', u'live', u'lived', u'liver', u'liverpool', u'lives', u'living', u'lkpobox177hp51fl', u'll', u'llc', u'llspeak', u'lmao', u'lnly', u'lo', u'loads', u'loan', u'loans', u'local', u'location', u'locations', u'locaxx', u'lock', u'lodge', u'lodging', u'log', u'logged', u'logging', u'login', u'logo', u'logon', u'logos', u'lol', u'lolnice', u'lololo', u'londn', u'london', u'loneliness', u'lonely', u'long', u'longer', u'lonlines', u'loo', u'look', u'looked', u'lookin', u'looking', u'looks', u'lool', u'loooooool', u'looovvve', u'loose', u'loosing', u'loosu', u'lor', u'lord', u'lose', u'losers', u'loses', u'losing', u'loss', u'lost', u'lot', u'lotr', u'lots', u'lotsly', u'lotta', u'lotto', u'lotz', u'lou', u'loud', u'lounge', u'lousy', u'lov', u'lovable', u'love', u'loved', u'lovejen', u'lovely', u'loveme', u'lover', u'loverboy', u'lovers', u'loves', u'lovin', u'loving', u'lovingly', u'lovly', u'low', u'lower', u'loxahatchee', u'loyal', u'loyalty', u'ls1', u'ls278bb', u'lst', u'lt', u'ltd', u'ltdhelpdesk', u'lttrs', u'lubly', u'luck', u'luckily', u'lucky', u'lucozade', u'lucy', u'lucyxx', u'lunch', u'lunsford', u'lush', u'luton', u'luv', u'luvs', u'lux', u'luxury', u'lv', u'lvblefrnd', u'lyf', u'lyfu', u'lying', u'lyk', u'lyricalladie', u'm100', u'm221bp', u'm227xy', u'm26', u'm263uz', u'm6', u'm60', u'm8', u'm8s', u'm95', u'ma', u'maaaan', u'maangalyam', u'maat', u'mac', u'macha', u'machan', u'machi', u'macho', u'mack', u'macleran', u'macs', u'mad', u'mad1', u'mad2', u'madam', u'made', u'madodu', u'madoke', u'mag', u'maga', u'magazine', u'maggi', u'magicalsongs', u'mah', u'mahal', u'maid', u'mail', u'mailbox', u'mailed', u'mails', u'main', u'maintain', u'maintaining', u'major', u'make', u'makes', u'makiing', u'makin', u'making', u'malaria', u'malarky', u'male', u'mall', u'mallika', u'man', u'manage', u'manageable', u'managed', u'management', u'manchester', u'manda', u'mandan', u'mandara', u'maneesha', u'manege', u'mango', u'maniac', u'manky', u'manual', u'many', u'map', u'mapquest', u'maps', u'maraikara', u'marandratha', u'march', u'margaret', u'margin', u'marine', u'mark', u'market', u'marketing', u'marking', u'marley', u'marriage', u'married', u'marry', u'marsms', u'marvel', u'mary', u'mas', u'massage', u'massages', u'massive', u'masteriastering', u'masters', u'mat', u'match', u'matches', u'mate', u'mates', u'math', u'mathe', u'mathematics', u'mathews', u'maths', u'matrix3', u'matter', u'matthew', u'matured', u'maturity', u'max', u'max10mins', u'max6', u'maximize', u'maximum', u'may', u'mayb', u'maybe', u'mb', u'mca', u'mcat', u'mcr', u'me', u'meal', u'mean', u'meaning', u'meaningful', u'meaningless', u'means', u'meant', u'meanwhile', u'measure', u'meat', u'meatballs', u'mecause', u'med', u'medical', u'medicine', u'meds', u'mee', u'meet', u'meetin', u'meeting', u'meetins', u'meets', u'meg', u'mega', u'meh', u'mei', u'mel', u'melle', u'melnite', u'melody', u'melt', u'member', u'members', u'membership', u'memorable', u'memories', u'memory', u'men', u'mens', u'mental', u'mention', u'mentioned', u'mentionned', u'mentor', u'menu', u'meow', u'merely', u'merememberin', u'merry', u'mesages', u'mess', u'message', u'messaged', u'messages', u'messaging', u'messed', u'messenger', u'messy', u'met', u'mf', u'mi', u'michael', u'mid', u'middle', u'midnight', u'mids', u'might', u'miiiiiiissssssssss', u'mike', u'mila', u'mileage', u'miles', u'milk', u'millers', u'million', u'millions', u'milta', u'min', u'mina', u'minapn', u'mind', u'minded', u'mindset', u'mine', u'mini', u'minimum', u'minmobsmore', u'minmobsmorelkpobox177hp51fl', u'minmoremobsemspobox45po139wa', u'minnaminunginte', u'minor', u'mins', u'minus', u'minute', u'minutes', u'minuts', u'miracle', u'mirror', u'mis', u'misbehaved', u'miserable', u'misfits', u'mising', u'misplaced', u'miss', u'misscall', u'missed', u'missin', u'missing', u'missionary', u'missions', u'missunderstding', u'missy', u'mist', u'mistake', u'mistakes', u'misundrstud', u'mite', u'mitsake', u'mittelschmertz', u'miwa', u'mix', u'mjzgroup', u'mk17', u'mk45', u'mm', u'mmm', u'mmmm', u'mmmmm', u'mmmmmm', u'mmmmmmm', u'mns', u'mnth', u'mnths', u'mo', u'moan', u'mob', u'mobcudb', u'mobile', u'mobiles', u'mobilesdirect', u'mobilesvary', u'mobileupd8', u'mobno', u'mobs', u'mobsi', u'moby', u'mode', u'model', u'module', u'modules', u'mofo', u'moji', u'mojibiola', u'mokka', u'molested', u'mom', u'moment', u'moments', u'moms', u'mon', u'monday', u'mone', u'money', u'monkeespeople', u'monkey', u'monkeyaround', u'monkeys', u'mono', u'monoc', u'monos', u'monster', u'month', u'monthly', u'monthlysubscription', u'months', u'mood', u'moon', u'moral', u'more', u'morefrmmob', u'morn', u'mornin', u'morning', u'morphine', u'morrow', u'moseley', u'most', u'mostly', u'mother', u'motherfucker', u'motivate', u'motivating', u'motive', u'motor', u'motorola', u'mouse', u'mouth', u'move', u'moved', u'moves', u'movie', u'movies', u'movietrivia', u'moving', u'mp3', u'mquiz', u'mr', u'mre', u'mrng', u'mrt', u'ms', u'msg', u'msg150p', u'msging', u'msgrcvd', u'msgrcvd18', u'msgrcvdhg', u'msgs', u'mt', u'mtalk', u'mth', u'mths', u'mtmsg', u'mtmsg18', u'mtmsgrcvd18', u'mtnl', u'mu', u'muah', u'much', u'muchand', u'muchxxlove', u'mudyadhu', u'muhommad', u'multiply', u'mum', u'mumbai', u'mumhas', u'mummy', u'mums', u'mumtaz', u'mundhe', u'munsters', u'murali', u'murder', u'murdered', u'murderer', u'mus', u'mushy', u'music', u'musical', u'musicnews', u'must', u'musthu', u'muz', u'mw', u'my', u'mycalls', u'myparents', u'mys', u'myself', u'myspace', u'mystery', u'n8', u'n9dx', u'na', u'naal', u'nachos', u'nag', u'nagar', u'nah', u'nahi', u'nails', u'naked', u'nalla', u'name', u'name1', u'name2', u'named', u'names', u'nammanna', u'nan', u'nange', u'nannys', u'nap', u'narcotics', u'nasdaq', u'naseeb', u'nasty', u'nat', u'nat27081980', u'natalie', u'natalie2k9', u'natalja', u'national', u'nationwide', u'natural', u'nature', u'natwest', u'naughty', u'nauseous', u'nav', u'navigate', u'nb', u'nbme', u'nd', u'ndship', u'ne', u'near', u'nearby', u'nearly', u'necesity', u'necessarily', u'necessary', u'necessity', u'neck', u'ned', u'need', u'needa', u'needed', u'needing', u'needle', u'needs', u'needy', u'neekunna', u'neft', u'negative', u'neglect', u'neighbors', u'neighbour', u'neither', u'nelson', u'neo69', u'nervous', u'neshanth', u'net', u'netcollex', u'netflix', u'nething', u'netun', u'netvision', u'network', u'networking', u'networks', u'neva', u'never', u'nevering', u'neville', u'nevr', u'new', u'neway', u'newest', u'newport', u'newquay', u'news', u'newscaster', u'newsletter', u'next', u'nhs', u'ni8', u'nic', u'nice', u'nichols', u'nick', u'nickey', u'nicky', u'nig', u'nigeria', u'nigh', u'night', u'nighters', u'nights', u'nigpun', u'nike', u'nikiyu4', u'nimbomsons', u'nimya', u'nipost', u'nit', u'nite', u'nitro', u'nitros', u'nitz', u'njan', u'nmde', u'no', u'no1', u'nobbing', u'nobody', u'noe', u'noi', u'noice', u'noise', u'noisy', u'nok', u'nokia', u'nokia6600', u'nokia6650', u'nokias', u'noline', u'non', u'none', u'nonetheless', u'nookii', u'noon', u'nooooooo', u'noooooooo', u'nope', u'nor', u'nora', u'nordstrom', u'norm', u'norm150p', u'normal', u'normally', u'north', u'northampton', u'nos', u'nosh', u'not', u'note', u'notebook', u'notes', u'nothin', u'nothing', u'notice', u'notifications', u'notified', u'notixiquating', u'nottingham', u'notxt', u'noun', u'novelty', u'november', u'now', u'nowadays', u'nowhere', u'nri', u'nt', u'nte', u'ntt', u'ntwk', u'nuclear', u'nudist', u'num', u'number', u'numbers', u'nursery', u'nurungu', u'nus', u'nusstu', u'nuther', u'nutter', u'nver', u'nvm', u'nw', u'nxt', u'ny', u'nyc', u'nydc', u'nyt', u'nytho', u'nz', u'o2', u'o2fwd', u'oath', u'obedient', u'obey', u'oblisingately', u'oblivious', u'obviously', u'occasion', u'occupied', u'occupy', u'occur', u'occurs', u'ocean', u'odi', u'of', u'ofcourse', u'off', u'offc', u'offer', u'offered', u'offering', u'offers', u'office', u'officer', u'official', u'officially', u'ofice', u'ofsi', u'ofstuff', u'often', u'oga', u'ogunrinde', u'oh', u'oi', u'oic', u'oil', u'oja', u'ok', u'okay', u'okden', u'okey', u'okie', u'okies', u'okmail', u'okors', u'ola', u'olave', u'olayiwola', u'old', u'oli', u'ollu', u'olol', u'olowoyey', u'olympics', u'omg', u'omw', u'on', u'onam', u'oncall', u'once', u'one', u'ones', u'oni', u'onion', u'online', u'only', u'onlyfound', u'onto', u'onwards', u'onwords', u'ooh', u'oooh', u'oops', u'open', u'opened', u'opener', u'openin', u'opening', u'openings', u'operate', u'operator', u'opinion', u'opinions', u'opponenter', u'opportunity', u'opps', u'opt', u'opted', u'optimistic', u'optin', u'option', u'optout', u'or', u'or2optout', u'or2stoptxt', u'oral', u'orange', u'oranges', u'orc', u'orchard', u'order', u'ordered', u'ore', u'oredi', u'oreo', u'oreos', u'org', u'organizer', u'orh', u'orig', u'original', u'orno', u'ors', u'ortxt', u'oru', u'oscar', u'oso', u'otbox', u'other', u'others', u'otherwise', u'othrs', u'otside', u'ou', u'ouch', u'our', u'ours', u'out', u'outage', u'outages', u'outbid', u'outdoors', u'outfit', u'outfor', u'outgoing', u'outl8r', u'outrageous', u'outreach', u'outs', u'outside', u'outsider', u'outsomewhere', u'outstanding', u'outta', u'ovarian', u'over', u'overdose', u'overemphasise', u'overheating', u'overtime', u'ovr', u'ovulate', u'ovulation', u'ow', u'owe', u'owed', u'own', u'owned', u'owns', u'owo', u'oxygen', u'oyster', u'oz', u'pa', u'paces', u'pack', u'package', u'packs', u'padhe', u'page', u'pages', u'pai', u'paid', u'pain', u'painful', u'paining', u'painting', u'pairs', u'palm', u'panalam', u'panasonic', u'pandy', u'panic', u'panicks', u'panren', u'pansy', u'panther', u'panties', u'pap', u'papa', u'paper', u'papers', u'paperwork', u'paracetamol', u'parachute', u'paragon', u'paragraphs', u'paranoid', u'parchi', u'parco', u'parent', u'parents', u'paris', u'parish', u'park', u'parked', u'parkin', u'parking', u'part', u'participate', u'particular', u'partner', u'partnership', u'party', u'paru', u'pases', u'pass', u'passable', u'passed', u'passes', u'passion', u'passionate', u'passport', u'password', u'passwords', u'past', u'pataistha', u'patent', u'path', u'pathaya', u'paths', u'patients', u'patrick', u'pattern', u'patty', u'paul', u'pause', u'pax', u'pay', u'payasam', u'payback', u'payed', u'payee', u'paying', u'payment', u'payoh', u'pc', u'pc1323', u'peace', u'peaceful', u'peach', u'peak', u'pears', u'pee', u'peeps', u'pehle', u'pen', u'pence', u'pendent', u'pending', u'penis', u'penny', u'people', u'peoples', u'per', u'percent', u'perf', u'perfect', u'perform', u'performance', u'performed', u'perhaps', u'peril', u'period', u'peripherals', u'permanent', u'permission', u'permissions', u'perpetual', u'persevered', u'persian', u'persolvo', u'person', u'personal', u'personality', u'personally', u'persons', u'perspective', u'pert', u'pesky', u'pest', u'pete', u'petexxx', u'petey', u'petrol', u'pg', u'ph', u'pharmacy', u'phasing', u'phb1', u'phd', u'phews', u'phil', u'philosophy', u'phne', u'phoenix', u'phone', u'phone750', u'phonebook', u'phoned', u'phones', u'phony', u'photo', u'photos', u'photoshop', u'php', u'phrase', u'phyhcmk', u'physics', u'piah', u'pic', u'pick', u'picked', u'picking', u'pickle', u'pics', u'picsfree1', u'picture', u'pictures', u'pie', u'piece', u'pieces', u'pierre', u'pig', u'pilates', u'pile', u'pillows', u'pimples', u'pin', u'pink', u'pints', u'pisces', u'piss', u'pissed', u'pist', u'pity', u'pix', u'pixels', u'pizza', u'pl', u'place', u'placed', u'placement', u'places', u'plaid', u'plan', u'plane', u'planet', u'planettalkinstant', u'planned', u'planning', u'plans', u'platt', u'play', u'played', u'player', u'players', u'playin', u'playing', u'playng', u'plaza', u'please', u'pleased', u'pleassssssseeeeee', u'pleasure', u'pleasured', u'plenty', u'plm', u'ploughing', u'pls', u'plum', u'plumbers', u'plumbing', u'plural', u'plus', u'plyr', u'plz', u'pm', u'po', u'po19', u'pobox', u'pobox1', u'pobox12n146tf150p', u'pobox334', u'pobox36504w45wq', u'pobox365o4w45wq', u'pobox45w2tg150p', u'pobox84', u'pocay', u'pocked', u'pocketbabe', u'pod', u'poem', u'poet', u'point', u'points', u'poker', u'pokkiri', u'pole', u'police', u'politicians', u'polo', u'poly', u'polyc', u'polyh', u'polyph', u'polyphonic', u'polys', u'pongal', u'ponnungale', u'poo', u'pooja', u'pookie', u'pool', u'poop', u'poor', u'poorly', u'pop', u'popcorn', u'popped', u'popping', u'porn', u'porridge', u'port', u'portal', u'portege', u'pos', u'posh', u'position', u'positions', u'positive', u'possession', u'possessive', u'possessiveness', u'possibility', u'possible', u'post', u'postal', u'postcard', u'postcode', u'posted', u'posting', u'postponed', u'posts', u'potato', u'potential', u'potter', u'pouch', u'pound', u'pounded', u'pounds', u'poured', u'pours', u'pouts', u'power', u'powerful', u'poyyarikatur', u'ppl', u'pple', u'ppm', u'ppm150', u'ppt150x3', u'prabha', u'prabu', u'pract', u'practical', u'practice', u'practicing', u'practicum', u'praises', u'prakasam', u'prakasamanu', u'prakesh', u'praps', u'prasad', u'prashanthettan', u'praveesh', u'pray', u'prayers', u'praying', u'pre', u'prediction', u'predictive', u'prefer', u'preferably', u'prem', u'premarica', u'premier', u'premium', u'prepaid', u'prepare', u'prepared', u'prepayment', u'preponed', u'prescribed', u'prescripiton', u'prescription', u'presence', u'present', u'presents', u'president', u'presleys', u'presnts', u'press', u'pressies', u'pressure', u'pretend', u'pretsorginta', u'pretsovru', u'pretty', u'prevent', u'previews', u'previous', u'previously', u'prey', u'price', u'prices', u'pride', u'priest', u'prin', u'prince', u'princes', u'princess', u'print', u'printed', u'printer', u'prior', u'priscilla', u'privacy', u'private', u'prix', u'priya', u'prize', u'prizeawaiting', u'prizes', u'prob', u'probably', u'problem', u'problematic', u'problems', u'problms', u'probs', u'probthat', u'process', u'prods', u'products', u'professional', u'professors', u'profile', u'profiles', u'profit', u'program', u'programs', u'progress', u'project', u'projects', u'prolly', u'prometazine', u'prominent', u'promise', u'promised', u'promises', u'promo', u'promoting', u'promptly', u'prompts', u'prone', u'proof', u'proove', u'proper', u'properly', u'property', u'propose', u'props', u'propsd', u'pros', u'prospects', u'protect', u'prove', u'proverb', u'provided', u'providing', u'province', u'prsn', u'ps', u'ps3', u'pshew', u'psychiatrist', u'psychic', u'psychologist', u'pt2', u'ptbo', u'pub', u'public', u'publish', u'pubs', u'pudunga', u'pull', u'pulls', u'punch', u'punish', u'punishment', u'punj', u'punto', u'puppy', u'pura', u'purchase', u'purchases', u'pure', u'purity', u'purpose', u'purse', u'push', u'pushbutton', u'pushes', u'pussy', u'put', u'puts', u'puttin', u'putting', u'puzzeles', u'puzzles', u'qatar', u'qbank', u'qet', u'qi', u'qing', u'qjkgighjjgcbl', u'qlynnbv', u'quality', u'quarter', u'que', u'queen', u'queries', u'ques', u'question', u'questioned', u'questions', u'quick', u'quickly', u'quiet', u'quit', u'quite', u'quitting', u'quiz', u'quizclub', u'quizzes', u'quote', u'quoting', u'r836', u'racal', u'racing', u'radiator', u'radio', u'raed', u'rael', u'rahul', u'railway', u'rain', u'raining', u'raise', u'raised', u'rajas', u'raji', u'rajini', u'rajnikant', u'rakhesh', u'raksha', u'rally', u'ralphs', u'ramen', u'ran', u'random', u'randomlly', u'randomly', u'randy', u'rang', u'range', u'ranjith', u'raping', u'rate', u'rates', u'rather', u'ratio', u'raviyog', u'rawring', u'rayan', u'rayman', u'rays', u'rcb', u'rcd', u'rct', u'rcv', u'rcvd', u'rd', u'rdy', u're', u'reach', u'reache', u'reached', u'reaching', u'reaction', u'read', u'readers', u'reading', u'ready', u'real', u'real1', u'realise', u'realised', u'realising', u'reality', u'realize', u'realized', u'realizes', u'really', u'reallyneed', u'realy', u'reapply', u'rearrange', u'reason', u'reasonable', u'reasons', u'reassurance', u'reassuring', u'rebel', u'reboot', u'rebooting', u'rebtel', u'rec', u'recd', u'receipt', u'receipts', u'receive', u'receivea', u'received', u'receiving', u'recent', u'recently', u'reception', u'recession', u'recharge', u'recharged', u'recieve', u'reckon', u'recognise', u'recognises', u'record', u'recorded', u'recorder', u'records', u'recount', u'recreation', u'red', u'redeemed', u'reduce', u'ref', u'reference', u'referin', u'reffering', u'refilled', u'reflection', u'reformat', u'refreshed', u'refund', u'refunded', u'refused', u'reg', u'regalportfolio', u'regard', u'regarding', u'regards', u'register', u'registered', u'registration', u'regret', u'regretted', u'regular', u'rejected', u'related', u'relation', u'relationship', u'relatives', u'relax', u'relaxing', u'released', u'reliant', u'relieved', u'relocate', u'reltnship', u'rem', u'remain', u'remains', u'remb', u'remember', u'remembered', u'remembr', u'remembrs', u'remind', u'reminded', u'reminder', u'reminding', u'remixed', u'removal', u'remove', u'removed', u'renewal', u'renewing', u'rent', u'rental', u'renting', u'rentl', u'rents', u'repairs', u'repeat', u'replace', u'replacement', u'replacing', u'replied', u'replies', u'reply', u'replying', u'report', u'reppurcussions', u'representative', u'request', u'requests', u'require', u'required', u'requirements', u'research', u'resend', u'resent', u'reservations', u'reserve', u'reserves', u'reset', u'residency', u'resizing', u'reslove', u'resolution', u'resolved', u'resort', u'respect', u'responce', u'respond', u'responding', u'response', u'responsibilities', u'responsibility', u'responsible', u'rest', u'restaurant', u'restock', u'restocked', u'restrict', u'restrictions', u'resubbing', u'resubmit', u'result', u'results', u'resume', u'resuming', u'retrieve', u'return', u'returned', u'returning', u'returns', u'reveal', u'revealed', u'reverse', u'review', u'revision', u'reward', u'rewarding', u'rg21', u'rgds', u'rgent', u'rhythm', u'rice', u'rich', u'riddance', u'ridden', u'ride', u'right', u'rightio', u'rightly', u'rights', u'ring', u'rings', u'ringtone', u'ringtoneking', u'ringtones', u'rinu', u'rip', u'risk', u'risks', u'rite', u'ritten', u'river', u'road', u'roads', u'roast', u'rob', u'robinson', u'rock', u'rocking', u'rocks', u'rodds1', u'rodger', u'rofl', u'roger', u'role', u'roles', u'rolled', u'roller', u'romantic', u'romcapspam', u'ron', u'room', u'roomate', u'roommate', u'roommates', u'rooms', u'rose', u'roses', u'rough', u'round', u'rounder', u'rounds', u'row', u'rowdy', u'rows', u'royal', u'rp176781', u'rpl', u'rply', u'rr', u'rs', u'rstm', u'rtf', u'rtm', u'ru', u'rub', u'rude', u'rudi', u'rugby', u'ruin', u'ruining', u'rule', u'rules', u'rum', u'rumbling', u'rumour', u'run', u'running', u'runs', u'rupaul', u'rush', u'rushing', u'rv', u'rvx', u'rwm', u'ryan', u'ryder', u's89', u'sabarish', u'sac', u'sachin', u'sack', u'sacked', u'sacrifice', u'sad', u'sae', u'saeed', u'safe', u'sagamu', u'said', u'sake', u'salad', u'salam', u'salary', u'sale', u'sales', u'salesman', u'sall', u'salmon', u'salon', u'salt', u'sam', u'samachara', u'samantha', u'sambar', u'same', u'sane', u'santa', u'santacalling', u'sao', u'sapna', u'sar', u'sarasota', u'sarcasm', u'sarcastic', u'saristar', u'sariyag', u'sary', u'sashimi', u'sat', u'sathya', u'satisfied', u'satisfy', u'satsgettin', u'saturday', u'saucy', u'sausage', u'savamob', u'save', u'saved', u'saves', u'savings', u'saw', u'say', u'saying', u'says', u'sayy', u'sc', u'scammers', u'scarcasim', u'scared', u'scary', u'scenery', u'sch', u'schedule', u'school', u'schools', u'science', u'scold', u'scorable', u'score', u'scores', u'scoring', u'scotch', u'scotland', u'scotsman', u'scouse', u'scraped', u'scrappy', u'scratching', u'scream', u'screamed', u'screaming', u'screen', u'screwd', u'scrounge', u'sd', u'sdryb8i', u'se', u'sea', u'search', u'searching', u'season', u'seat', u'sec', u'second', u'secondary', u'seconds', u'secret', u'secretary', u'secretly', u'secrets', u'secs', u'section', u'sections', u'secure', u'secured', u'sed', u'see', u'seeds', u'seeing', u'seekers', u'seeking', u'seem', u'seemed', u'seems', u'seen', u'seh', u'sehwag', u'seing', u'select', u'selected', u'selection', u'self', u'selfindependence', u'selfish', u'sell', u'selling', u'sells', u'sem', u'semester', u'sen', u'send', u'sender', u'sending', u'sends', u'senor', u'sense', u'senses', u'sensitive', u'sent', u'sentence', u'senthil', u'sentiment', u'seperated', u'sept', u'september', u'series', u'serious', u'seriously', u'served', u'service', u'services', u'serving', u'servs', u'set', u'setting', u'settings', u'settle', u'settled', u'seven', u'several', u'sex', u'sexiest', u'sexual', u'sexy', u'sexychat', u'sez', u'sf', u'sg', u'sh', u'sha', u'shadow', u'shagged', u'shah', u'shahjahan', u'shakara', u'shake', u'shakespeare', u'shaking', u'shall', u'shame', u'shampain', u'shangela', u'shant', u'shaping', u'share', u'shared', u'sharing', u'shattered', u'shaved', u'shb', u'shd', u'she', u'sheet', u'sheets', u'sheffield', u'shelves', u'sherawat', u'shesil', u'shexy', u'shhhhh', u'shifad', u'shijas', u'shijutta', u'shinco', u'shindig', u'shining', u'shiny', u'ship', u'shipped', u'shipping', u'shirt', u'shirts', u'shit', u'shite', u'shitin', u'shitinnit', u'shitload', u'shitstorm', u'shld', u'shock', u'shocking', u'shoes', u'shola', u'shoot', u'shop', u'shoppin', u'shopping', u'shoranur', u'shore', u'short', u'shortage', u'shortbreaks', u'shortcode', u'shorter', u'shortly', u'shorts', u'shot', u'shoul', u'should', u'shouldn', u'shouted', u'shove', u'shoving', u'show', u'showed', u'shower', u'showered', u'showers', u'showing', u'showrooms', u'shows', u'shracomorsglsuplt', u'shrek', u'shrink', u'shrub', u'shsex', u'shud', u'shudvetold', u'shuhui', u'shun', u'shut', u'shy', u'si', u'sian', u'sib', u'sick', u'sickness', u'side', u'sigh', u'sighs', u'sight', u'sign', u'signal', u'significance', u'signing', u'silence', u'silent', u'silently', u'silver', u'sim', u'simonwatson5120', u'simple', u'simply', u'simpsons', u'since', u'sinco', u'sindu', u'sing', u'singing', u'single', u'singles', u'sink', u'sip', u'sipix', u'sips', u'sir', u'sirji', u'sis', u'sister', u'sisters', u'sit', u'site', u'sitll', u'sitting', u'situation', u'situations', u'siva', u'six', u'size', u'sized', u'sk3', u'sk38xh', u'skateboarding', u'skilgme', u'skillgame', u'skills', u'skinny', u'skint', u'skip', u'skirt', u'sky', u'skype', u'skyped', u'skyving', u'slaaaaave', u'slap', u'slave', u'sleep', u'sleepin', u'sleeping', u'sleepingwith', u'sleeps', u'sleepwell', u'sleepy', u'slept', u'slice', u'slide', u'sliding', u'slightly', u'slip', u'slippers', u'slippery', u'slo', u'slob', u'slots', u'slovely', u'slow', u'slower', u'slowly', u'slp', u'smacks', u'small', u'smaller', u'smart', u'smartcall', u'smarter', u'smashed', u'smear', u'smell', u'smells', u'smeone', u'smidgin', u'smile', u'smiles', u'smiley', u'smiling', u'smith', u'smoke', u'smoked', u'smokes', u'smokin', u'smoking', u'smoothly', u'sms', u'smsco', u'smsing', u'smsrewards', u'smsservices', u'smth', u'sn', u'snap', u'snappy', u'snatch', u'snd', u'sneham', u'snickering', u'snogs', u'snoring', u'snot', u'snow', u'snowboarding', u'snuggles', u'so', u'sochte', u'social', u'sofa', u'soft', u'software', u'soil', u'soiree', u'sol', u'soladha', u'sold', u'solihull', u'solve', u'solved', u'some', u'some1', u'somebody', u'someday', u'someone', u'someonone', u'someplace', u'somerset', u'sometext', u'somethin', u'something', u'sometime', u'sometimes', u'sometme', u'somewhat', u'somewhere', u'somewheresomeone', u'somewhr', u'somone', u'somtimes', u'sonathaya', u'sonetimes', u'song', u'songs', u'sony', u'sonyericsson', u'soo', u'soon', u'sooner', u'soonlots', u'sooo', u'sooooo', u'sophas', u'sore', u'sorrow', u'sorrows', u'sorry', u'sort', u'sorta', u'sorted', u'sorting', u'sorts', u'sory', u'soryda', u'sos', u'soul', u'sound', u'sounding', u'sounds', u'soundtrack', u'soup', u'source', u'sources', u'south', u'southern', u'soz', u'sozi', u'sp', u'space', u'spaces', u'spam', u'spanish', u'spare', u'spares', u'spark', u'sparkling', u'spatula', u'speak', u'speaking', u'special', u'speciale', u'specialisation', u'specialise', u'specially', u'specific', u'specify', u'speechless', u'speed', u'speedchat', u'speeding', u'spell', u'spelled', u'spelling', u'spend', u'spending', u'spent', u'sphosting', u'spice', u'spider', u'spiffing', u'spile', u'spin', u'spinout', u'spiral', u'spirit', u'spiritual', u'spjanuary', u'spk', u'spl', u'splash', u'splashmobile', u'splat', u'splendid', u'splleing', u'spoiled', u'spoilt', u'spoke', u'spoken', u'sponsors', u'spontaneously', u'spook', u'spoon', u'spoons', u'sporadically', u'sport', u'sports', u'sportsx', u'spot', u'spotty', u'sppok', u'spreadsheet', u'spree', u'spring', u'springs', u'sprint', u'sptv', u'spun', u'sq825', u'squatting', u'squid', u'srt', u'sry', u'st', u'stable', u'stadium', u'staff', u'stage', u'stagwood', u'stairs', u'stalk', u'stalking', u'stamped', u'stamps', u'stand', u'standard', u'standing', u'stands', u'stapati', u'star', u'starer', u'starring', u'stars', u'starshine', u'start', u'started', u'starting', u'starts', u'starwars3', u'statement', u'station', u'status', u'stay', u'stayed', u'stayin', u'staying', u'stays', u'std', u'stdtxtrate', u'steak', u'stealing', u'steam', u'steamboat', u'steed', u'steering', u'step', u'steps', u'stereo', u'stereophonics', u'sterling', u'sterm', u'steve', u'stewartsize', u'steyn', u'stick', u'sticky', u'stifled', u'stil', u'still', u'stink', u'stitch', u'stock', u'stocked', u'stockport', u'stolen', u'stomach', u'stomps', u'stone', u'stoners', u'stones', u'stool', u'stop', u'stop2', u'stop2stop', u'stopbcm', u'stopcost', u'stopped', u'stops', u'stopsms', u'store', u'stores', u'stories', u'storming', u'story', u'str', u'straight', u'strain', u'strange', u'stranger', u'stream', u'street', u'stress', u'stressful', u'stretch', u'strewn', u'strict', u'strike', u'strings', u'strip', u'stripes', u'strips', u'strokes', u'strong', u'strongly', u'strt', u'strtd', u'struggling', u'sts', u'stu', u'stubborn', u'stuck', u'studdying', u'student', u'studentfinancial', u'students', u'studies', u'studio', u'study', u'studying', u'studyn', u'stuff', u'stuff42moro', u'stuffing', u'stunning', u'stupid', u'style', u'styles', u'styling', u'stylish', u'stylist', u'sub', u'subject', u'subletting', u'submitted', u'submitting', u'subpoly', u'subs', u'subs16', u'subscribe', u'subscribe6gbp', u'subscribed', u'subscriber', u'subscribers', u'subscription', u'subscriptions', u'subscriptn3gbp', u'subscrition', u'subsequent', u'subtoitles', u'success', u'successful', u'successfully', u'sucker', u'suckers', u'sucks', u'sudden', u'suddenly', u'sudn', u'suffer', u'suffering', u'sufficient', u'sugababes', u'suganya', u'sugar', u'suggest', u'suggestion', u'suggestions', u'suite', u'suite342', u'suitemates', u'suits', u'sum', u'sum1', u'sumfing', u'summer', u'summon', u'sumthin', u'sun', u'sun0819', u'sunday', u'sunlight', u'sunny', u'sunroof', u'sunshine', u'suntec', u'sup', u'super', u'superb', u'superior', u'supervisor', u'suply', u'supose', u'suppliers', u'supplies', u'supply', u'support', u'supports', u'suppose', u'supposed', u'supreme', u'suprman', u'sura', u'sure', u'surely', u'surf', u'surfing', u'surly', u'surname', u'surprise', u'surprised', u'surrender', u'surrounded', u'survey', u'surya', u'sutra', u'sux', u'suzy', u'svc', u'sw7', u'sw73ss', u'swalpa', u'swann', u'swap', u'swashbuckling', u'swat', u'swatch', u'sway', u'swayze', u'sweater', u'sweatter', u'sweet', u'sweetest', u'sweetheart', u'sweetie', u'sweets', u'swhrt', u'swimming', u'swimsuit', u'swing', u'swiss', u'switch', u'swollen', u'swoop', u'swt', u'swtheart', u'syd', u'syllabus', u'symbol', u'sympathetic', u'symptoms', u'synced', u'syria', u'syrup', u'system', u'systems', u't4get2text', u't91', u'ta', u'table', u'tablet', u'tablets', u'tackle', u'tacos', u'tactful', u'tactless', u'tag', u'tagged', u'tahan', u'tai', u'tait', u'taj', u'taka', u'take', u'takecare', u'taken', u'takes', u'takin', u'taking', u'talent', u'talk', u'talkbut', u'talked', u'talkin', u'talking', u'talks', u'tall', u'tallahassee', u'tallent', u'tamilnadu', u'tampa', u'tank', u'tantrum', u'tap', u'tape', u'tariffs', u'tarpon', u'taste', u'tasts', u'tat', u'tata', u'tats', u'tattoos', u'tau', u'taught', u'taunton', u'taxes', u'taxi', u'taxless', u'taxt', u'taylor', u'tayseer', u'tb', u'tbs', u'tc', u'tcr', u'tcs', u'tea', u'teach', u'teacher', u'teaches', u'teaching', u'team', u'tear', u'tears', u'tease', u'teasing', u'tech', u'technical', u'technologies', u'tee', u'teenager', u'teeth', u'teju', u'tel', u'telediscount', u'telephone', u'teletext', u'tell', u'telling', u'tellmiss', u'tells', u'telly', u'telphone', u'telugu', u'temales', u'temp', u'temper', u'temple', u'ten', u'tenants', u'tendencies', u'tenerife', u'tensed', u'tension', u'term', u'terminated', u'terms', u'termsapply', u'terrible', u'terrific', u'terror', u'terrorist', u'terry', u'tescos', u'tessy', u'test', u'testing', u'tests', u'tex', u'texas', u'text', u'text82228', u'textand', u'textbuddy', u'textcomp', u'texted', u'textin', u'texting', u'textoperator', u'textpod', u'texts', u'tgxxrz', u'th', u'than', u'thandiyachu', u'thangam', u'thank', u'thanks', u'thanks2', u'thanksgiving', u'thanku', u'thankyou', u'thanx', u'thanx4', u'thasa', u'that', u'that2worzels', u'thats', u'the', u'theacusations', u'theater', u'theatre', u'thecd', u'their', u'theirs', u'thekingshead', u'them', u'themed', u'themob', u'then', u'thenampet', u'theoretically', u'theory', u'theplace', u'thepub', u'there', u'theres', u'these', u'thesis', u'thet', u'thew', u'they', u'theyre', u'thgt', u'thia', u'thin', u'thing', u'things', u'think', u'thinked', u'thinkin', u'thinking', u'thinks', u'thinl', u'thirtyeight', u'thirunelvali', u'this', u'thk', u'thm', u'thnk', u'thnq', u'thnx', u'tho', u'those', u'thot', u'thou', u'though', u'thought', u'thoughts', u'thousands', u'thout', u'thread', u'threats', u'three', u'threw', u'thriller', u'throat', u'through', u'throw', u'throwin', u'throwing', u'thrown', u'throws', u'thru', u'ths', u'tht', u'thts', u'thuglyfe', u'thurs', u'thursday', u'thx', u'thy', u'tick', u'ticket', u'tickets', u'tie', u'tiempo', u'tiger', u'tight', u'tightly', u'tigress', u'tihs', u'tiime', u'til', u'till', u'time', u'times', u'timi', u'timin', u'timing', u'timings', u'tiny', u'tip', u'tips', u'tired', u'tiring', u'tirunelvai', u'tirunelvali', u'tirupur', u'tis', u'tissco', u'title', u'titles', u'tiwary', u'tiz', u'tkts', u'tlk', u'tlp', u'tm', u'tmorow', u'tmorrow', u'tmr', u'tmrw', u'tms', u'tmw', u'tncs', u'to', u'toa', u'toaday', u'tobacco', u'tobed', u'toclaim', u'today', u'todays', u'todo', u'tog', u'together', u'toilet', u'tok', u'toking', u'told', u'toledo', u'toll', u'tom', u'tomarrow', u'tome', u'tomeandsaid', u'tomo', u'tomorro', u'tomorrow', u'tone', u'tones', u'tones2u', u'tones2you', u'tongued', u'tonight', u'tonights', u'tonite', u'tons', u'too', u'took', u'tookplace', u'tool', u'tooo', u'toot', u'tooth', u'tootsie', u'top', u'topic', u'toplay', u'topped', u'toppoly', u'tops', u'tor', u'torch', u'tortilla', u'torture', u'tosend', u'toshiba', u'toss', u'tot', u'total', u'totally', u'totes', u'touch', u'touched', u'tough', u'tour', u'towards', u'town', u'toyota', u'tp', u'track', u'trackmarque', u'trade', u'traditions', u'traffic', u'train', u'trained', u'training', u'trainners', u'trains', u'tram', u'transaction', u'transcribing', u'transfer', u'transfered', u'transfr', u'transfred', u'transport', u'trash', u'trav', u'travel', u'traveling', u'travelling', u'treadmill', u'treasure', u'treat', u'treated', u'treats', u'trebles', u'tree', u'trek', u'trends', u'trial', u'tried', u'trip', u'triple', u'trips', u'trishul', u'tron', u'trouble', u'troubleshooting', u'trouser', u'truble', u'truck', u'true', u'true18', u'truffles', u'truly', u'truro', u'trust', u'trusting', u'truth', u'try', u'tryin', u'trying', u'ts', u'tscs', u'tscs08714740323', u'tscs087147403231winawk', u'tsunami', u'tsunamis', u'tt', u'ttyl', u'tue', u'tues', u'tuesday', u'tui', u'tuition', u'tul', u'tulip', u'tunde', u'tune', u'tunji', u'turkeys', u'turn', u'turned', u'turning', u'turns', u'tuth', u'tv', u'twat', u'twelve', u'twice', u'twiggs', u'twilight', u'twins', u'twittering', u'two', u'tx', u'txt', u'txt250', u'txt43', u'txt82228', u'txtauction', u'txtin', u'txting', u'txtno', u'txts', u'txtstar', u'txtstop', u'txttowin', u'txtx', u'tyler', u'type', u'types', u'typical', u'tyrone', u'u2moro', u'u4', u'ubi', u'ugh', u'ugo', u'uh', u'uin', u'uk', u'ukp', u'uks', u'ultimate', u'ultimately', u'ultimatum', u'um', u'umma', u'ummifying', u'ummma', u'ummmmmaah', u'un', u'unable', u'unbelievable', u'unbreakable', u'uncle', u'uncles', u'uncomfortable', u'unconditionally', u'unconscious', u'unconvinced', u'under', u'underdtand', u'understand', u'understanding', u'understood', u'underwear', u'undrstnd', u'undrstndng', u'uneventful', u'unhappiness', u'uni', u'unicef', u'uniform', u'unintentional', u'unintentionally', u'unique', u'united', u'units', u'univ', u'university', u'unjalur', u'unkempt', u'unknown', u'unless', u'unlike', u'unlimited', u'unmits', u'unnecessarily', u'unni', u'unrecognized', u'unredeemed', u'unsecured', u'unsold', u'unsub', u'unsubscribe', u'unsubscribed', u'untamed', u'until', u'unusual', u'up', u'up4', u'upcharge', u'upd8', u'updat', u'update', u'update_now', u'upgrade', u'upgrading', u'upgrdcentre', u'upload', u'uploaded', u'upon', u'upping', u'ups', u'upset', u'upstairs', u'upto', u'ur', u'urawinner', u'ure', u'urfeeling', u'urgent', u'urgently', u'urgh', u'urgnt', u'urgoin', u'urgran', u'url', u'urmom', u'urn', u'urself', u'us', u'usa', u'usb', u'usc', u'use', u'used', u'useful', u'useless', u'user', u'uses', u'usf', u'usher', u'using', u'usps', u'usual', u'usually', u'uterus', u'utter', u'uttered', u'uup', u'uwana', u'uworld', u'va', u'vaazhthukkal', u'vague', u'vaguely', u'vale', u'valentine', u'valentines', u'valid', u'valid12hrs', u'valuable', u'value', u'valued', u'values', u'valuing', u'varaya', u'vargu', u'various', u'varma', u'varunnathu', u'vary', u'vasai', u'vat', u'vatian', u'vava', u'vday', u've', u'vegas', u'vegetables', u'vehicle', u'velachery', u'velly', u'velusamy', u'venaam', u'venugopal', u'verified', u'verify', u'verifying', u'version', u'versus', u'very', u'vettam', u'vewy', u'via', u'vibrate', u'vibrator', u'vic', u'victoria', u'victors', u'vid', u'video', u'videochat', u'videophones', u'videos', u'videosound', u'videosounds', u'view', u'vijay', u'vijaykanth', u'vikky', u'vilikkam', u'vill', u'villa', u'village', u'vinobanagar', u'violated', u'violence', u'violet', u'vip', u'vipclub4u', u'virgil', u'virgin', u'virgins', u'virtual', u'visa', u'visionsms', u'visit', u'visitor', u'visitors', u'vital', u'viva', u'vivek', u'vl', u'voda', u'vodafone', u'vodka', u'voice', u'voicemail', u'volcanoes', u'vomit', u'vomitin', u'vomiting', u'vote', u'voted', u'voucher', u'vouchers', u'vpod', u'vry', u'vs', u'vth', u'vu', u'w1', u'w111wx', u'w14rg', u'w1a', u'w1j', u'w1j6hl', u'w1jhl', u'w1t1jy', u'w4', u'w45wq', u'w8in', u'wa', u'wa14', u'waaaat', u'wad', u'wadebridge', u'wah', u'wahay', u'waheed', u'waheeda', u'wahleykkum', u'waht', u'wait', u'waited', u'waitin', u'waiting', u'wake', u'waking', u'wales', u'walk', u'walkabout', u'walked', u'walking', u'wall', u'wallet', u'wallpaper', u'walls', u'walmart', u'walsall', u'wamma', u'wan', u'wan2', u'wana', u'wanna', u'wannatell', u'want', u'want2come', u'wanted', u'wanting', u'wants', u'wap', u'waqt', u'warm', u'warming', u'warned', u'warner', u'warning', u'warranty', u'warwick', u'was', u'washob', u'wasn', u'wasnt', u'waste', u'wasted', u'wasting', u'wat', u'watch', u'watched', u'watchin', u'watching', u'watchng', u'water', u'watever', u'watevr', u'wating', u'watr', u'wats', u'watts', u'wave', u'wavering', u'waves', u'way', u'way2sms', u'waz', u'wc1n', u'wc1n3xx', u'we', u'weak', u'weakness', u'weaknesses', u'weapon', u'wear', u'wearing', u'weaseling', u'weasels', u'weather', u'web', u'web2mobile', u'webadres', u'webeburnin', u'website', u'wed', u'weddin', u'wedding', u'wedlunch', u'wednesday', u'weds', u'wee', u'weed', u'week', u'weekdays', u'weekend', u'weekends', u'weekly', u'weeks', u'weigh', u'weighed', u'weight', u'weightloss', u'weird', u'weirdest', u'weirdo', u'weirdy', u'weiyi', u'welcome', u'welcomes', u'well', u'wellda', u'welp', u'wen', u'wendy', u'wenever', u'went', u'wenwecan', u'wer', u'were', u'werebored', u'weren', u'werethe', u'wesley', u'wesleys', u'west', u'western', u'westlife', u'westonzoyland', u'wet', u'wetherspoons', u'wewa', u'what', u'whatever', u'whats', u'wheat', u'wheel', u'wheellock', u'when', u'whenever', u'whenevr', u'whens', u'where', u'whereare', u'wherever', u'wherevr', u'wherre', u'whether', u'which', u'while', u'whilltake', u'whispers', u'white', u'whn', u'who', u'whoever', u'whole', u'whom', u'whore', u'whos', u'whose', u'whr', u'why', u'wi', u'wicked', u'wicket', u'wicklow', u'wid', u'widelive', u'wif', u'wife', u'wifes', u'wifi', u'wihtuot', u'wikipedia', u'wil', u'wild', u'wildlife', u'will', u'willing', u'willpower', u'win', u'win150ppmx3age16', u'wind', u'window', u'windows', u'winds', u'wine', u'wined', u'wings', u'wining', u'winner', u'winnersclub', u'winning', u'wins', u'winterstone', u'wipe', u'wipro', u'wire3', u'wisdom', u'wise', u'wish', u'wisheds', u'wishes', u'wishin', u'wishing', u'wishlist', u'wiskey', u'wit', u'with', u'wither', u'within', u'without', u'witin', u'witot', u'witout', u'wiv', u'wizzle', u'wk', u'wkend', u'wkent', u'wkg', u'wkly', u'wknd', u'wks', u'wlcome', u'wld', u'wml', u'wn', u'wnevr', u'wnt', u'wo', u'woah', u'wocay', u'woke', u'woken', u'woman', u'womdarfull', u'women', u'won', u'wondar', u'wondarfull', u'wonder', u'wonderful', u'wondering', u'wonders', u'wont', u'woo', u'woodland', u'woods', u'woohoo', u'woot', u'woozles', u'worc', u'word', u'words', u'work', u'workage', u'workand', u'workin', u'working', u'workout', u'works', u'world', u'worlds', u'worms', u'worried', u'worries', u'worry', u'worrying', u'worse', u'worst', u'worth', u'worthless', u'wot', u'wotu', u'wotz', u'woul', u'would', u'woulda', u'wouldn', u'wounds', u'wow', u'wrc', u'wrecked', u'wrench', u'wrenching', u'wright', u'write', u'wrk', u'wrkin', u'wrking', u'wrks', u'wrld', u'wrnog', u'wrong', u'wrongly', u'wrote', u'ws', u'wt', u'wtc', u'wtf', u'wth', u'wthout', u'wtlp', u'wud', u'wudn', u'wuld', u'wuldnt', u'wun', u'www', u'wylie', u'x2', u'x29', u'x49', u'xafter', u'xam', u'xavier', u'xchat', u'xclusive', u'xin', u'xmas', u'xoxo', u'xt', u'xuhui', u'xx', u'xxsp', u'xxx', u'xxxmobilemovieclub', u'xxxx', u'xxxxx', u'xxxxxx', u'xy', u'y87', u'ya', u'yah', u'yahoo', u'yalrigu', u'yalru', u'yam', u'yan', u'yar', u'yarasu', u'yards', u'yavnt', u'yaxx', u'yaxxx', u'yay', u'yck', u'yeah', u'year', u'years', u'yeesh', u'yeh', u'yelling', u'yellow', u'yen', u'yeovil', u'yep', u'yer', u'yes', u'yest', u'yesterday', u'yet', u'yetty', u'yetunde', u'yijue', u'ym', u'ymca', u'yo', u'yoga', u'yogasana', u'yor', u'yorge', u'you', u'youdoing', u'youi', u'youphone', u'your', u'youre', u'yourinclusive', u'yourjob', u'yours', u'yourself', u'youwanna', u'yowifes', u'yoyyooo', u'yr', u'yrs', u'ything', u'yummmm', u'yummy', u'yun', u'yunny', u'yuo', u'yuou', u'yup', u'zac', u'zaher', u'zealand', u'zebra', u'zed', u'zeros', u'zhong', u'zindgi', u'zoe', u'zoom', u'zouk', u'zyada', u'\\xe8n', u'\\u3028ud']\n"
     ]
    }
   ],
   "source": [
    "count_vector = CountVectorizer()\n",
    "training_data = count_vector.fit_transform(X_train)\n",
    "testing_data = count_vector.transform(X_test)\n",
    "\n",
    "print(count_vector.get_feature_names())"
   ]
  },
  {
   "cell_type": "markdown",
   "metadata": {},
   "source": [
    "***\n",
    "## Step 5: Implementing Naive Bayes on data"
   ]
  },
  {
   "cell_type": "code",
   "execution_count": 66,
   "metadata": {},
   "outputs": [
    {
     "data": {
      "text/plain": [
       "MultinomialNB(alpha=1.0, class_prior=None, fit_prior=True)"
      ]
     },
     "execution_count": 66,
     "metadata": {},
     "output_type": "execute_result"
    }
   ],
   "source": [
    "from sklearn.naive_bayes import MultinomialNB\n",
    "naive_bayes = MultinomialNB()\n",
    "naive_bayes.fit(training_data, y_train)"
   ]
  },
  {
   "cell_type": "code",
   "execution_count": 67,
   "metadata": {},
   "outputs": [],
   "source": [
    "predictions = naive_bayes.predict(testing_data)"
   ]
  },
  {
   "cell_type": "markdown",
   "metadata": {},
   "source": [
    "***\n",
    "## Step 6: Evaluating our model"
   ]
  },
  {
   "cell_type": "code",
   "execution_count": 73,
   "metadata": {},
   "outputs": [
    {
     "data": {
      "text/plain": [
       "array([0, 0, 0, ..., 0, 0, 0])"
      ]
     },
     "execution_count": 73,
     "metadata": {},
     "output_type": "execute_result"
    }
   ],
   "source": [
    "predictions"
   ]
  },
  {
   "cell_type": "code",
   "execution_count": 74,
   "metadata": {},
   "outputs": [
    {
     "name": "stdout",
     "output_type": "stream",
     "text": [
      "Accuracy: 0.990134529148\n",
      "Precision: 0.978873239437\n",
      "Recall: 0.945578231293\n",
      "F1: 0.961937716263\n"
     ]
    }
   ],
   "source": [
    "from sklearn.metrics import accuracy_score, precision_score, recall_score, f1_score\n",
    "print('Accuracy: {}'.format(accuracy_score(y_test, predictions)))\n",
    "print('Precision: {}'.format(precision_score(y_test,predictions)))\n",
    "print('Recall: {}'.format(recall_score(y_test, predictions)))\n",
    "print('F1: {}'.format(f1_score(y_test, predictions)))"
   ]
  },
  {
   "cell_type": "code",
   "execution_count": null,
   "metadata": {},
   "outputs": [],
   "source": []
  }
 ],
 "metadata": {
  "kernelspec": {
   "display_name": "Python 3",
   "language": "python",
   "name": "python3"
  },
  "language_info": {
   "codemirror_mode": {
    "name": "ipython",
    "version": 2
   },
   "file_extension": ".py",
   "mimetype": "text/x-python",
   "name": "python",
   "nbconvert_exporter": "python",
   "pygments_lexer": "ipython2",
   "version": "2.7.12"
  }
 },
 "nbformat": 4,
 "nbformat_minor": 2
}
